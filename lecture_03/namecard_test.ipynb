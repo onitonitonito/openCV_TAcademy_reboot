{
 "cells": [
  {
   "cell_type": "code",
   "execution_count": 1,
   "metadata": {},
   "outputs": [
    {
     "name": "stdout",
     "output_type": "stream",
     "text": [
      "\n",
      "# namecard test : namecard1, 2 - what's the best threshold value?\n",
      "\n"
     ]
    }
   ],
   "source": [
    "\"\"\"\n",
    "# namecard test : namecard1, 2 - what's the best threshold value?\n",
    "\"\"\"\n",
    "print(__doc__)\n",
    "\n",
    "import sys\n",
    "import cv2"
   ]
  },
  {
   "cell_type": "code",
   "execution_count": 2,
   "metadata": {},
   "outputs": [
    {
     "name": "stdout",
     "output_type": "stream",
     "text": [
      "\n",
      "# functions : for a few initial path setting\n",
      "\n"
     ]
    }
   ],
   "source": [
    "from _path import get_cut_dir\n",
    "dir_home = get_cut_dir('openCV_TAcademy')"
   ]
  },
  {
   "cell_type": "code",
   "execution_count": 3,
   "metadata": {},
   "outputs": [],
   "source": [
    "img = cv2.imread(filename = dir_home + '/src/namecard1.jpg')\n",
    "\n",
    "if img is None:\n",
    "    print('image loaing is failed!')\n",
    "    sys.exit()"
   ]
  },
  {
   "cell_type": "code",
   "execution_count": 4,
   "metadata": {},
   "outputs": [],
   "source": [
    "# dsize=destination-size = pixels x,y\n",
    "# img = cv2.resize(img, (640, 480))   # WHY NOT KICK-IN?\n",
    "img = cv2.resize(img, (0, 0), fx=0.4, fy=0.4)   # WHY NOT KICK-IN?\n",
    "winname1 = 'imgRGB'\n",
    "cv2.imshow(winname1,img)\n",
    "cv2.moveWindow(winname1, x=0, y=130)"
   ]
  },
  {
   "cell_type": "code",
   "execution_count": 5,
   "metadata": {},
   "outputs": [],
   "source": [
    "img_gray = cv2.cvtColor(src=img, code=cv2.COLOR_BGR2GRAY)\n",
    "winname2 = 'grayScale'\n",
    "cv2.imshow(winname2, img_gray)\n",
    "cv2.moveWindow(winname2, x=0, y=500)"
   ]
  },
  {
   "cell_type": "code",
   "execution_count": 6,
   "metadata": {},
   "outputs": [
    {
     "name": "stdout",
     "output_type": "stream",
     "text": [
      "threVal = 132.0\n"
     ]
    }
   ],
   "source": [
    "# Threashold value = 130, maxVal=255 | OTSU-Algorithm\n",
    "# _, img_bin = cv2.threshold(img_gray, 130, 255, cv2.THRESH_BINARY)\n",
    "_, img_bin = cv2.threshold(img_gray, 0, 255, cv2.THRESH_BINARY | cv2.THRESH_OTSU)\n",
    "print(f'threVal = {_}')   # threVal = 132.0 <-- OTSU -Algorithms"
   ]
  },
  {
   "cell_type": "code",
   "execution_count": 7,
   "metadata": {},
   "outputs": [],
   "source": [
    "winname3 = 'img_bin'\n",
    "cv2.imshow(winname3, img_bin)\n",
    "cv2.moveWindow(winname3, x=480, y=500)"
   ]
  },
  {
   "cell_type": "code",
   "execution_count": null,
   "metadata": {},
   "outputs": [],
   "source": [
    "# 키입력 값을 기다린다.\n",
    "while True:\n",
    "    if cv2.waitKey() == 27:     # timedelay = mili-second\n",
    "        break"
   ]
  },
  {
   "cell_type": "code",
   "execution_count": null,
   "metadata": {},
   "outputs": [],
   "source": []
  }
 ],
 "metadata": {
  "kernelspec": {
   "display_name": "Python 3",
   "language": "python",
   "name": "python3"
  },
  "language_info": {
   "codemirror_mode": {
    "name": "ipython",
    "version": 3
   },
   "file_extension": ".py",
   "mimetype": "text/x-python",
   "name": "python",
   "nbconvert_exporter": "python",
   "pygments_lexer": "ipython3",
   "version": "3.6.9"
  }
 },
 "nbformat": 4,
 "nbformat_minor": 4
}
