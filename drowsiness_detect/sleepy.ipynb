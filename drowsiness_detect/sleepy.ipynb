{
 "cells": [
  {
   "cell_type": "markdown",
   "metadata": {},
   "source": [
    "## [TODO]\n",
    "> ` \n",
    "ModuleNotFoundError  Traceback (most recent call last)\n",
    "<ipython-input-3-86efaff83347> in <module>\n",
    "      1 import cv2\n",
    "      2 import numpy as np\n",
    "  --> 3 import tensorflow as tf\n",
    "ModuleNotFoundError: No module named 'tensorflow'\n",
    "`"
   ]
  },
  {
   "cell_type": "code",
   "execution_count": 2,
   "metadata": {},
   "outputs": [
    {
     "name": "stdout",
     "output_type": "stream",
     "text": [
      "\n",
      "# openCV CLOSE-EYE DETECTION : Haar-Cascade Classifier\n",
      "#  - IF SCORE over 15: CLOSE\n",
      "#   * ALARM RING!                   = DISABLED!\n",
      "#   * CAPTURE SCENE                 = DISABLED!\n",
      "#   * FRAME TURN RED! AND BLINKING! = ENABLE\n",
      "# need tensorflow==2.0\n",
      "\n"
     ]
    }
   ],
   "source": [
    "\"\"\"\n",
    "# openCV CLOSE-EYE DETECTION : Haar-Cascade Classifier\n",
    "#  - IF SCORE over 15: CLOSE\n",
    "#   * ALARM RING!                   = DISABLED!\n",
    "#   * CAPTURE SCENE                 = DISABLED!\n",
    "#   * FRAME TURN RED! AND BLINKING! = ENABLE\n",
    "# need tensorflow==2.0\n",
    "\"\"\"\n",
    "# [OpenCV] putText 폰트 c++ = https://bit.ly/34IOQc3\n",
    "# TF higher version occure DICT issue : refer below\n",
    "# https://github.com/tensorflow/tensorflow/issues/38135\n",
    "print(__doc__)"
   ]
  },
  {
   "cell_type": "code",
   "execution_count": 3,
   "metadata": {},
   "outputs": [
    {
     "ename": "ModuleNotFoundError",
     "evalue": "No module named 'tensorflow'",
     "output_type": "error",
     "traceback": [
      "\u001b[0;31m---------------------------------------------------------------------------\u001b[0m",
      "\u001b[0;31mModuleNotFoundError\u001b[0m                       Traceback (most recent call last)",
      "\u001b[0;32m<ipython-input-3-86efaff83347>\u001b[0m in \u001b[0;36m<module>\u001b[0;34m\u001b[0m\n\u001b[1;32m      1\u001b[0m \u001b[0;32mimport\u001b[0m \u001b[0mcv2\u001b[0m\u001b[0;34m\u001b[0m\u001b[0;34m\u001b[0m\u001b[0m\n\u001b[1;32m      2\u001b[0m \u001b[0;32mimport\u001b[0m \u001b[0mnumpy\u001b[0m \u001b[0;32mas\u001b[0m \u001b[0mnp\u001b[0m\u001b[0;34m\u001b[0m\u001b[0;34m\u001b[0m\u001b[0m\n\u001b[0;32m----> 3\u001b[0;31m \u001b[0;32mimport\u001b[0m \u001b[0mtensorflow\u001b[0m \u001b[0;32mas\u001b[0m \u001b[0mtf\u001b[0m\u001b[0;34m\u001b[0m\u001b[0;34m\u001b[0m\u001b[0m\n\u001b[0m",
      "\u001b[0;31mModuleNotFoundError\u001b[0m: No module named 'tensorflow'"
     ]
    }
   ],
   "source": [
    "import cv2\n",
    "import numpy as np\n",
    "import tensorflow as tf"
   ]
  },
  {
   "cell_type": "code",
   "execution_count": 4,
   "metadata": {},
   "outputs": [
    {
     "name": "stdout",
     "output_type": "stream",
     "text": [
      "\n",
      "# functions : for a few initial path setting\n",
      "\n"
     ]
    }
   ],
   "source": [
    "from _path import (get_cut_dir, stop_if_none)\n",
    "dir_dnn = get_cut_dir('drowsiness_detect') + 'src_dnn/'"
   ]
  },
  {
   "cell_type": "code",
   "execution_count": null,
   "metadata": {},
   "outputs": [],
   "source": []
  },
  {
   "cell_type": "code",
   "execution_count": null,
   "metadata": {},
   "outputs": [],
   "source": []
  },
  {
   "cell_type": "code",
   "execution_count": null,
   "metadata": {},
   "outputs": [],
   "source": []
  }
 ],
 "metadata": {
  "kernelspec": {
   "display_name": "Python 3",
   "language": "python",
   "name": "python3"
  },
  "language_info": {
   "codemirror_mode": {
    "name": "ipython",
    "version": 3
   },
   "file_extension": ".py",
   "mimetype": "text/x-python",
   "name": "python",
   "nbconvert_exporter": "python",
   "pygments_lexer": "ipython3",
   "version": "3.6.9"
  }
 },
 "nbformat": 4,
 "nbformat_minor": 4
}
