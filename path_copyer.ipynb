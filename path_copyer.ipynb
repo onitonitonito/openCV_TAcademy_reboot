{
 "cells": [
  {
   "cell_type": "code",
   "execution_count": null,
   "metadata": {},
   "outputs": [],
   "source": []
  },
  {
   "cell_type": "code",
   "execution_count": 2,
   "metadata": {},
   "outputs": [
    {
     "name": "stdout",
     "output_type": "stream",
     "text": [
      "\n",
      "# functions : for a few initial path setting\n",
      "\n"
     ]
    }
   ],
   "source": [
    "import os\n",
    "from typing import List\n",
    "from shutil import copyfile \n",
    "\n",
    "from _path_seed import get_cut_dir, DIR_HOME"
   ]
  },
  {
   "cell_type": "code",
   "execution_count": 3,
   "metadata": {},
   "outputs": [],
   "source": [
    "def get_sub_dir(target_dir:str, except_dir:str='') -> List:\n",
    "    \"\"\"# retVal = dir-list  \"\"\"\n",
    "    sub_dir = sorted(\n",
    "        [dir_name for dir_name in os.listdir(target_dir)\n",
    "            if not '.' in dir_name and \\\n",
    "                not dir_name.startswith('__')],\n",
    "        reverse=False,\n",
    "    )\n",
    "    if len(except_dir) != 0:\n",
    "        for ex in except_dir.split():\n",
    "            sub_dir = [sub for sub in sub_dir if sub != ex]\n",
    "    return sub_dir    \n",
    "\n",
    "def get_fullpath(default_dir:str, sub_dir_list:List) -> List[str]:\n",
    "    return [default_dir + sub for sub in sub_dir_list]\n",
    "        "
   ]
  },
  {
   "cell_type": "code",
   "execution_count": 4,
   "metadata": {},
   "outputs": [
    {
     "data": {
      "text/plain": [
       "(12,\n",
       " ['CSI-Camera',\n",
       "  'drowsiness_detect',\n",
       "  'easyOCR_example',\n",
       "  'handwriting_mnist',\n",
       "  'lecture_01',\n",
       "  'lecture_02',\n",
       "  'lecture_03',\n",
       "  'lecture_gram-man',\n",
       "  'others',\n",
       "  'catcam',\n",
       "  'classify',\n",
       "  'dnnface'])"
      ]
     },
     "execution_count": 4,
     "metadata": {},
     "output_type": "execute_result"
    }
   ],
   "source": [
    "# FOR CHECK-OUT THE RESULT!\n",
    "# 분배 해 줄 대상 디렉토리\n",
    "\n",
    "_ = get_sub_dir(DIR_HOME, 'src lecture_04') + \\\n",
    "    get_sub_dir(DIR_HOME + 'lecture_04/')\n",
    "len(_), _"
   ]
  },
  {
   "cell_type": "code",
   "execution_count": 5,
   "metadata": {},
   "outputs": [
    {
     "data": {
      "text/plain": [
       "(12, '개 대상폴더에 복사 할 예정입니다!')"
      ]
     },
     "execution_count": 5,
     "metadata": {},
     "output_type": "execute_result"
    }
   ],
   "source": [
    "dirs_spread = \\\n",
    "    get_fullpath(\n",
    "            default_dir=DIR_HOME, \n",
    "            sub_dir_list=get_sub_dir(target_dir=DIR_HOME, except_dir='src lecture_04')\n",
    "        ) + \\\n",
    "    get_fullpath(\n",
    "            default_dir=DIR_HOME + 'lecture_04/', \n",
    "            sub_dir_list=get_sub_dir(DIR_HOME + 'lecture_04/'),\n",
    "        )\n",
    "\n",
    "len(dirs_spread), '개 대상폴더에 복사 할 예정입니다!'"
   ]
  },
  {
   "cell_type": "code",
   "execution_count": 7,
   "metadata": {},
   "outputs": [
    {
     "name": "stdout",
     "output_type": "stream",
     "text": [
      "CSI-Camera           = exist: False --> duplicated from HOME!\n",
      "drowsiness_detect    = exist: False --> duplicated from HOME!\n",
      "easyOCR_example      = exist: False --> duplicated from HOME!\n",
      "handwriting_mnist    = exist: False --> duplicated from HOME!\n",
      "lecture_01           = exist: False --> duplicated from HOME!\n",
      "lecture_02           = exist: False --> duplicated from HOME!\n",
      "lecture_03           = exist: False --> duplicated from HOME!\n",
      "lecture_gram-man     = exist: False --> duplicated from HOME!\n",
      "others               = exist: False --> duplicated from HOME!\n",
      "catcam               = exist: False --> duplicated from HOME!\n",
      "classify             = exist: False --> duplicated from HOME!\n",
      "dnnface              = exist: False --> duplicated from HOME!\n"
     ]
    }
   ],
   "source": [
    "# FOR CHECK-OUT\n",
    "for dir in dirs_spread:\n",
    "    filename = '_path.py'\n",
    "    name = dir.split('/')[-1]\n",
    "    exist = '_path.py' in os.listdir(dir)\n",
    "    print(f\"{name:20} = exist: {exist}\", end=\"\")\n",
    "    \n",
    "    if exist:\n",
    "        os.remove(dir + '/' + filename)\n",
    "        print(\" --> deleted!\")    \n",
    "    else:\n",
    "        src = DIR_HOME + '_path_seed.py'\n",
    "        dst = dir + '/' + '_path.py'\n",
    "        copyfile(src, dst)\n",
    "        print(\" --> duplicated from HOME!\")"
   ]
  },
  {
   "cell_type": "markdown",
   "metadata": {},
   "source": [
    "## 복사로 변경될때 까지 마지막 셀을 반복해서 실행시켜 줌\n",
    "> 1. dnnface              = exist: True --> deleted!  ... 기존화일 삭제\n",
    "> 1. dnnface              = exist: False --> duplicated from HOME! ... 신규복사!"
   ]
  },
  {
   "cell_type": "code",
   "execution_count": null,
   "metadata": {},
   "outputs": [],
   "source": []
  }
 ],
 "metadata": {
  "kernelspec": {
   "display_name": "Python 3",
   "language": "python",
   "name": "python3"
  },
  "language_info": {
   "codemirror_mode": {
    "name": "ipython",
    "version": 3
   },
   "file_extension": ".py",
   "mimetype": "text/x-python",
   "name": "python",
   "nbconvert_exporter": "python",
   "pygments_lexer": "ipython3",
   "version": "3.6.9"
  }
 },
 "nbformat": 4,
 "nbformat_minor": 4
}
