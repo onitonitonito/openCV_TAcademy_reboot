{
 "cells": [
  {
   "cell_type": "code",
   "execution_count": 2,
   "metadata": {},
   "outputs": [
    {
     "name": "stdout",
     "output_type": "stream",
     "text": [
      "\n",
      "# perspective arrangement :\n",
      "\n",
      "\n",
      "# functions : for a few initial path setting\n",
      "\n"
     ]
    }
   ],
   "source": [
    "\"\"\"\n",
    "# perspective arrangement :\n",
    "\"\"\"\n",
    "print(__doc__)\n",
    "\n",
    "from _path import (DIR_SRC, get_cut_dir, stop_if_none)\n",
    "\n",
    "import cv2\n",
    "import sys\n",
    "import numpy as np"
   ]
  },
  {
   "cell_type": "code",
   "execution_count": 3,
   "metadata": {},
   "outputs": [],
   "source": [
    "# 원본 소스 이미지 (컬러)\n",
    "src = cv2.imread(DIR_SRC + 'namecard1.jpg')\n",
    "src = stop_if_none(src, message='image loaging failed!')\n",
    "\n",
    "# 왜곡 보정후 이미지 사이즈\n",
    "w, h = 720, 400\n",
    "\n",
    "# 소스 이미지의 pts\n",
    "src_quards = np.array([[325, 307], [760, 369], [718, 611], [231, 515]], np.float32)\n",
    "dst_quards = np.array([[0, 0], [w-1, 0], [w-1, h-1], [0, h-1]], np.float32)\n",
    "\n",
    "pers = cv2.getPerspectiveTransform(src_quards, dst_quards)\n",
    "dst = cv2.warpPerspective(src, pers, (w, h))"
   ]
  },
  {
   "cell_type": "code",
   "execution_count": 17,
   "metadata": {},
   "outputs": [
    {
     "name": "stdout",
     "output_type": "stream",
     "text": [
      "NOTHING!\n"
     ]
    }
   ],
   "source": [
    "# Original color image - Keyboard & namecard = return Event key (esc=27)\n",
    "cv2.imshow('original src image', src)\n",
    "\n",
    "print('PRESS ESC') if cv2.waitKey() == 27 else print('NOTHING!') \n",
    "cv2.destroyAllWindows() "
   ]
  },
  {
   "cell_type": "code",
   "execution_count": 19,
   "metadata": {},
   "outputs": [
    {
     "name": "stdout",
     "output_type": "stream",
     "text": [
      "NOTHING!\n"
     ]
    }
   ],
   "source": [
    "# Extracted namecard, = return Event key (close=-1)\n",
    "cv2.imshow('dst', dst)\n",
    "\n",
    "print('PRESS ESC') if cv2.waitKey() == 27 else print('NOTHING!') \n",
    "cv2.destroyAllWindows()"
   ]
  },
  {
   "cell_type": "code",
   "execution_count": 6,
   "metadata": {},
   "outputs": [],
   "source": []
  },
  {
   "cell_type": "code",
   "execution_count": null,
   "metadata": {},
   "outputs": [],
   "source": []
  }
 ],
 "metadata": {
  "kernelspec": {
   "display_name": "Python 3",
   "language": "python",
   "name": "python3"
  },
  "language_info": {
   "codemirror_mode": {
    "name": "ipython",
    "version": 3
   },
   "file_extension": ".py",
   "mimetype": "text/x-python",
   "name": "python",
   "nbconvert_exporter": "python",
   "pygments_lexer": "ipython3",
   "version": "3.6.9"
  }
 },
 "nbformat": 4,
 "nbformat_minor": 4
}
