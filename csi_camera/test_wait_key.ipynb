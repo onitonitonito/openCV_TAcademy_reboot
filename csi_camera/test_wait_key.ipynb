{
 "cells": [
  {
   "cell_type": "code",
   "execution_count": 1,
   "metadata": {},
   "outputs": [],
   "source": [
    "\n",
    "import os\n",
    "import cv2"
   ]
  },
  {
   "cell_type": "code",
   "execution_count": 2,
   "metadata": {},
   "outputs": [
    {
     "name": "stdout",
     "output_type": "stream",
     "text": [
      "\n",
      "# functions : for a few initial path setting\n",
      "\n"
     ]
    }
   ],
   "source": [
    "from _path import get_cut_dir, stop_if_none, DIR_HOME, DIR_SRC"
   ]
  },
  {
   "cell_type": "code",
   "execution_count": 3,
   "metadata": {},
   "outputs": [
    {
     "data": {
      "text/plain": [
       "['namecard1.jpg',\n",
       " 'cat.bmp',\n",
       " 'lena.bmp',\n",
       " 'Lenna.png',\n",
       " 'coins.png',\n",
       " 'namecard2.jpg',\n",
       " 'namecard3.jpg']"
      ]
     },
     "execution_count": 3,
     "metadata": {},
     "output_type": "execute_result"
    }
   ],
   "source": [
    "# os.chdir()\n",
    "vaild_exts = 'bmp png jpg'.split()\n",
    "imgs = [file for file in os.listdir(DIR_SRC) \n",
    "        if len(file.split('.')) > 1 and \\\n",
    "            file.split('.')[-1] in vaild_exts]\n",
    "imgs"
   ]
  },
  {
   "cell_type": "code",
   "execution_count": 10,
   "metadata": {},
   "outputs": [],
   "source": [
    "def test_wait_key():\n",
    "    lst_img_path = [\n",
    "        DIR_SRC + imgs[0],\n",
    "        DIR_SRC + imgs[1],\n",
    "        DIR_SRC + imgs[2],\n",
    "        DIR_SRC + imgs[3],\n",
    "    ]\n",
    "\n",
    "    for f in imgs:\n",
    "        f_path = DIR_SRC + f\n",
    "        img = cv2.imread(f_path)\n",
    "        cv2.imshow('tmp', img)\n",
    "        c = cv2.waitKey(0) % 256\n",
    "\n",
    "        if c == ord('a'):\n",
    "            print(c, \"pressed a\")\n",
    "        else:\n",
    "            print(c, '=you press %s' % chr(c))\n",
    "    cv2.destroyAllWindows()"
   ]
  },
  {
   "cell_type": "code",
   "execution_count": 11,
   "metadata": {},
   "outputs": [
    {
     "name": "stdout",
     "output_type": "stream",
     "text": [
      "32 =you press  \n",
      "44 =you press ,\n",
      "46 =you press .\n",
      "109 =you press m\n",
      "47 =you press /\n",
      "39 =you press '\n",
      "59 =you press ;\n"
     ]
    }
   ],
   "source": [
    "\"\"\"\n",
    "waitKey() returns number matching with key-event\n",
    "32 =you press ''  \n",
    "44 =you press ,\n",
    "46 =you press .\n",
    "109 =you press m\n",
    "47 =you press /\n",
    "39 =you press '\n",
    "59 =you press ;\n",
    "\"\"\"\n",
    "\n",
    "test_wait_key()"
   ]
  },
  {
   "cell_type": "code",
   "execution_count": null,
   "metadata": {},
   "outputs": [],
   "source": []
  }
 ],
 "metadata": {
  "kernelspec": {
   "display_name": "Python 3",
   "language": "python",
   "name": "python3"
  },
  "language_info": {
   "codemirror_mode": {
    "name": "ipython",
    "version": 3
   },
   "file_extension": ".py",
   "mimetype": "text/x-python",
   "name": "python",
   "nbconvert_exporter": "python",
   "pygments_lexer": "ipython3",
   "version": "3.6.9"
  }
 },
 "nbformat": 4,
 "nbformat_minor": 4
}
