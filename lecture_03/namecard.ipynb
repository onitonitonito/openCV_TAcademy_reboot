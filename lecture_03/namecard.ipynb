{
 "cells": [
  {
   "cell_type": "code",
   "execution_count": 1,
   "metadata": {},
   "outputs": [],
   "source": [
    "\"\"\"\n",
    "# Tesseract-ocr 설치하기\n",
    "# ---------------------------\n",
    "1. tesseract-ocr-w64-setup-v5.0.0-alpha.20191030.exe 파일 다운로드\n",
    "   (https://digi.bib.uni-mannheim.de/tesseract/tesseract-ocr-w64-setup-v5.0.0-alpha.20200328.exe)\n",
    "2. 설치 시 \"Additional script data\" 항목에서 \"Hangul Script\", \"Hangul vertical script\" 항목 체크,\n",
    "   \"Additional language data\" 항목에서 \"Korean\" 항목 체크.\n",
    "4. 설치 후 시스템 환경변수 PATH에 Tesseract 설치 폴더 추가\n",
    "   (e.g.) c:/Program Files/Tesseract-OCR\n",
    "4. 설치 후 시스템 환경변수에 TESSDATA_PREFIX를 추가하고, 변수 값을 <Tesseract-DIR>/tessdata 로 설정\n",
    "5. <Tesseract-DIR>/tessdata/script/ 폴더에 있는 Hangul.traineddata, Hangul_vert.traineddata 파일을\n",
    "   <Tesseract-DIR>/tessdata/ 폴더로 복사\n",
    "6. 명령 프롬프트 창에서 pip install pytesseract 명령 입력\n",
    "\"\"\"\n",
    "\n",
    "from typing import List\n",
    "\n",
    "import sys\n",
    "import cv2\n",
    "import numpy as np"
   ]
  },
  {
   "cell_type": "code",
   "execution_count": 29,
   "metadata": {},
   "outputs": [],
   "source": [
    "# import pytesseract  # No module named 'pytesseract'"
   ]
  },
  {
   "cell_type": "code",
   "execution_count": 13,
   "metadata": {},
   "outputs": [],
   "source": [
    "# import pytesseract    # ERRON SETUP! -> easyOCR\n",
    "from _path import (DIR_SRC, get_cut_dir, stop_if_none)\n",
    "\n",
    "# 영상 불러오기 : default = namecard1.jpg\n",
    "# filename = 'namecard1.jpg' if len(sys.argv) <= 1 else sys.argv[1]  # ERROR: filename = -f\n",
    "\n",
    "filename = 'namecard1.jpg'\n",
    "dw, dh = (720, 400)             # 명함 왜곡보정 후 출력/저장 되는 사이즈"
   ]
  },
  {
   "cell_type": "code",
   "execution_count": 14,
   "metadata": {},
   "outputs": [],
   "source": [
    "# 영상 로딩이 안될경우 시스템 종료!\n",
    "src_RGB = cv2.imread(DIR_SRC + filename)\n",
    "src_RGB = stop_if_none(src_RGB, message=\"image loading failed!\")"
   ]
  },
  {
   "cell_type": "code",
   "execution_count": 15,
   "metadata": {},
   "outputs": [],
   "source": [
    "# 입력 영상 전처리 = 그레이스케일 + 바이너리 이미지 만들기\n",
    "src_gray = cv2.cvtColor(src_RGB, cv2.COLOR_BGR2GRAY)\n",
    "_, src_bin = cv2.threshold(src_gray, 0, 255, cv2.THRESH_BINARY | cv2.THRESH_OTSU)"
   ]
  },
  {
   "cell_type": "code",
   "execution_count": 16,
   "metadata": {},
   "outputs": [],
   "source": [
    "# 출력 영상 설정\n",
    "src_quards = np.array([[0, 0], [0, 0], [0, 0], [0, 0]], np.float32)\n",
    "\n",
    "destin_quards = np.array([[0, 0], [0, dh], [dw, dh], [dw, 0]], np.float32)\n",
    "destination = np.zeros((dh, dw), np.uint8)"
   ]
  },
  {
   "cell_type": "code",
   "execution_count": 17,
   "metadata": {},
   "outputs": [],
   "source": [
    "def get_reorder_pts(pts:List[int]) -> List[int]:\n",
    "    \"\"\" # re-dorder 4 point of rectangular\"\"\"\n",
    "    # 칼럼0 -> 칼럼1 순으로 정렬한 인덱스를 반환\n",
    "    idx = np.lexsort((pts[:, 1], pts[:, 0]))\n",
    "\n",
    "    # x좌표로 정렬\n",
    "    pts = pts[idx]\n",
    "\n",
    "    if pts[0, 1] > pts[1, 1]:\n",
    "        pts[[0, 1]] = pts[[1, 0]]\n",
    "\n",
    "    if pts[2, 1] < pts[3, 1]:\n",
    "        pts[[2, 3]] = pts[[3, 2]]\n",
    "\n",
    "    return pts"
   ]
  },
  {
   "cell_type": "code",
   "execution_count": 18,
   "metadata": {},
   "outputs": [],
   "source": [
    "# 바이너리 이미지(src_bin) 에서 외곽선 검출하고 그 중에 명함추출 하는 방법\n",
    "contours, _ = cv2.findContours(src_bin, cv2.RETR_EXTERNAL, cv2.CHAIN_APPROX_NONE)"
   ]
  },
  {
   "cell_type": "code",
   "execution_count": 19,
   "metadata": {},
   "outputs": [],
   "source": [
    "# 외곽선(contour) 중에서 타겟 외곽선(approx)를 추출 하는 루틴!\n",
    "for contour in contours:\n",
    "    # 너무 작은 객체는 제외 = 면적이 1,000픽셀보다 작은 객체는 제외\n",
    "    if cv2.contourArea(contour) < 10000:\n",
    "        continue\n",
    "\n",
    "    # 외곽선의 근사치 주적 알고리즘 = DP (Douglas-Peucker) algorithm\n",
    "    #  - Point 수를 줄이는 방식은 Douglas-Peucker algorithm.\n",
    "    #  - 임의의 폭 안쪽으로 들어오지 않는 포인트를 삭제해 나가면서 외곽선 추출\n",
    "    approx = cv2.approxPolyDP(contour, cv2.arcLength(contour, True)*0.02, True)\n",
    "\n",
    "    # 컨벡스가 아니거나 4각형(4 contour)이 아니면 제외 시킴\n",
    "    if not cv2.isContourConvex(approx) or len(approx) != 4:\n",
    "        continue"
   ]
  },
  {
   "cell_type": "code",
   "execution_count": 20,
   "metadata": {},
   "outputs": [],
   "source": [
    "# 원본 이미지(src_RGB) 위에 추출된 좌표(approx)를 그린다\n",
    "cv2.polylines(src_RGB, [approx], True, (0, 255, 0), 2, cv2.LINE_AA)\n",
    "src_quards = get_reorder_pts(approx.reshape(4, 2).astype(np.float32))\n",
    "\n",
    "# 퍼스펙트 왜곡을 보정한다.\n",
    "pers = cv2.getPerspectiveTransform(src_quards, destin_quards)\n",
    "destination = cv2.warpPerspective(src_RGB, pers, (dw, dh), flags=cv2.INTER_CUBIC)"
   ]
  },
  {
   "cell_type": "code",
   "execution_count": 21,
   "metadata": {},
   "outputs": [],
   "source": [
    "# 보여주기 위해서, BRG 포맷을 RGB 포맷으로 변형 시칸다\n",
    "# RGB퍼스팩을 추출해서 데스틴에 담는다\n",
    "dst_rgb = cv2.cvtColor(destination, cv2.COLOR_BGR2RGB)\n",
    "src_RGB_resized = cv2.resize(src=src_RGB, dsize=(0,0), fx=0.4, fy=0.4)\n",
    "\n",
    "# print(pytesseract.image_to_string(dst_rgb), lang='Hangul+eng')\n",
    "# print(pytesseract.image_to_string(dst_rgb))"
   ]
  },
  {
   "cell_type": "code",
   "execution_count": 22,
   "metadata": {},
   "outputs": [],
   "source": [
    "# 가공된 이미지를 보여준다.\n",
    "cv2.imshow('src_RGB', src_RGB)\n",
    "cv2.imshow('src_gray', src_gray)\n",
    "cv2.imshow('src_bin', src_bin)\n",
    "cv2.imshow('src_RGB_resized', src_RGB_resized)\n",
    "cv2.imshow('namecard_extracted', destination)\n",
    "\n",
    "cv2.imwrite(DIR_SRC + 'resultOCR\\\\namecard_extracted.png', destination)\n",
    "\n",
    "cv2.waitKey()\n",
    "cv2.destroyAllWindows()"
   ]
  },
  {
   "cell_type": "code",
   "execution_count": 1,
   "metadata": {},
   "outputs": [
    {
     "ename": "ModuleNotFoundError",
     "evalue": "No module named 'seaborn'",
     "output_type": "error",
     "traceback": [
      "\u001b[0;31m---------------------------------------------------------------------------\u001b[0m",
      "\u001b[0;31mModuleNotFoundError\u001b[0m                       Traceback (most recent call last)",
      "\u001b[0;32m<ipython-input-1-e153a7f06428>\u001b[0m in \u001b[0;36m<module>\u001b[0;34m\u001b[0m\n\u001b[1;32m      2\u001b[0m \u001b[0;31m# import easyocr\u001b[0m\u001b[0;34m\u001b[0m\u001b[0;34m\u001b[0m\u001b[0;34m\u001b[0m\u001b[0m\n\u001b[1;32m      3\u001b[0m \u001b[0;32mimport\u001b[0m \u001b[0mpandas\u001b[0m \u001b[0;32mas\u001b[0m \u001b[0mpd\u001b[0m\u001b[0;34m\u001b[0m\u001b[0;34m\u001b[0m\u001b[0m\n\u001b[0;32m----> 4\u001b[0;31m \u001b[0;32mimport\u001b[0m \u001b[0mseaborn\u001b[0m \u001b[0;32mas\u001b[0m \u001b[0msns\u001b[0m\u001b[0;34m\u001b[0m\u001b[0;34m\u001b[0m\u001b[0m\n\u001b[0m\u001b[1;32m      5\u001b[0m \u001b[0;32mimport\u001b[0m \u001b[0mmatplotlib\u001b[0m\u001b[0;34m.\u001b[0m\u001b[0mpyplot\u001b[0m \u001b[0;32mas\u001b[0m \u001b[0mplt\u001b[0m\u001b[0;34m\u001b[0m\u001b[0;34m\u001b[0m\u001b[0m\n\u001b[1;32m      6\u001b[0m \u001b[0;34m\u001b[0m\u001b[0m\n",
      "\u001b[0;31mModuleNotFoundError\u001b[0m: No module named 'seaborn'"
     ]
    }
   ],
   "source": [
    "# READ TEXT RESULTS by easyOCR / PIL\n",
    "# import easyocr\n",
    "import pandas as pd\n",
    "import seaborn as sns\n",
    "import matplotlib.pyplot as plt\n",
    "\n",
    "from PIL import (Image, ImageDraw)"
   ]
  },
  {
   "cell_type": "code",
   "execution_count": 41,
   "metadata": {},
   "outputs": [],
   "source": [
    "im = Image.open(DIR_SRC + 'resultOCR\\\\namecard_extracted.png')\n",
    "im = stop_if_none(im, message=\"image loading failed!\")"
   ]
  },
  {
   "cell_type": "code",
   "execution_count": null,
   "metadata": {},
   "outputs": [],
   "source": []
  },
  {
   "cell_type": "code",
   "execution_count": null,
   "metadata": {},
   "outputs": [],
   "source": []
  },
  {
   "cell_type": "code",
   "execution_count": null,
   "metadata": {},
   "outputs": [],
   "source": [
    "\n",
    "\n",
    "\n",
    "# easyOCR command :\n",
    "# CUDA not available - defaulting to CPU. Note:\n",
    "# This module is much faster with a GPU.\n",
    "reader = easyocr.Reader(['en', 'ko',])\n",
    "bounds = reader.readtext(DIR_SRC + 'resultOCR\\\\namecard_extracted.png')\n",
    "\n",
    "\n",
    "def draw_bounds(image, bounds, color='yellow', width=2):\n",
    "    \"\"\"# from PIL import (Image, ImageDraw) needed!\"\"\"\n",
    "    # Draw bounding boxes\n",
    "\n",
    "    draw = ImageDraw.Draw(image)\n",
    "    for bound in bounds:\n",
    "        p0, p1, p2, p3 = bound[0]\n",
    "        draw.line([*p0, *p1, *p2, *p3, *p0], fill=color, width=width)\n",
    "    return image\n",
    "\n",
    "im_boxed = draw_bounds(im, bounds)                # PIL needed\n",
    "im_boxed.show()\n",
    "\n",
    "\n",
    "# 확률(probs)순으로 내림차순 정렬을 한다.\n",
    "df_bounds = pd.DataFrame(bounds, columns=['coord', 'reads', 'probs'])\n",
    "df_bounds_sort = df_bounds.sort_values(by=['probs'], ascending=False, axis=0)\n",
    "\n",
    "\n",
    "print('\\n\\n')\n",
    "print(df_bounds_sort.head())\n",
    "\n",
    "\n",
    "print('\\n\\n')\n",
    "for idx, prob, read in zip(df_bounds_sort.index,df_bounds_sort.probs, df_bounds_sort.reads):\n",
    "    print(f\"{prob * 100:5.2f} % ... |   {read:30}\")\n",
    "\n",
    "# To SEE : ACCURACY CHART\n",
    "fig, axes = plt.subplots(2,2, figsize=(12,6))\n",
    "# df_bounds.probs.plot.barh(ax=axes[0,0])\n",
    "df_bounds.probs.plot(ax=axes[0,0])\n",
    "df_bounds.probs.hist(bins=27, ax=axes[0,1])\n",
    "sns.boxplot(df_bounds.probs, ax=axes[1,1])\n",
    "plt.show()\n",
    "\n",
    "\n",
    "\n",
    "\"\"\"\n",
    "for prob in probs:\n",
    "    print(prob)\n",
    "\n",
    "probs.sort(key=lambda x: x[1])          # sort by probablity\n",
    "\"\"\"\n"
   ]
  }
 ],
 "metadata": {
  "kernelspec": {
   "display_name": "Python 3",
   "language": "python",
   "name": "python3"
  },
  "language_info": {
   "codemirror_mode": {
    "name": "ipython",
    "version": 3
   },
   "file_extension": ".py",
   "mimetype": "text/x-python",
   "name": "python",
   "nbconvert_exporter": "python",
   "pygments_lexer": "ipython3",
   "version": "3.6.9"
  }
 },
 "nbformat": 4,
 "nbformat_minor": 4
}
