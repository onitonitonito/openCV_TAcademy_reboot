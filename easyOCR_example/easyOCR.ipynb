{
 "cells": [
  {
   "cell_type": "code",
   "execution_count": 3,
   "metadata": {},
   "outputs": [
    {
     "name": "stdout",
     "output_type": "stream",
     "text": [
      "\n",
      "# Colab example - news daum : https://bit.ly/2QtrcrD\n",
      "\n"
     ]
    }
   ],
   "source": [
    "\"\"\"\n",
    "# Colab example - news daum : https://bit.ly/2QtrcrD\n",
    "\"\"\"\n",
    "# TODO: NOT FINISHED YET!\n",
    "\n",
    "print(__doc__)\n"
   ]
  },
  {
   "cell_type": "code",
   "execution_count": 4,
   "metadata": {},
   "outputs": [
    {
     "ename": "ModuleNotFoundError",
     "evalue": "No module named 'seaborn'",
     "output_type": "error",
     "traceback": [
      "\u001b[0;31m---------------------------------------------------------------------------\u001b[0m",
      "\u001b[0;31mModuleNotFoundError\u001b[0m                       Traceback (most recent call last)",
      "\u001b[0;32m<ipython-input-4-807367b04a04>\u001b[0m in \u001b[0;36m<module>\u001b[0;34m\u001b[0m\n\u001b[1;32m      2\u001b[0m \u001b[0;31m# import easyocr\u001b[0m\u001b[0;34m\u001b[0m\u001b[0;34m\u001b[0m\u001b[0;34m\u001b[0m\u001b[0m\n\u001b[1;32m      3\u001b[0m \u001b[0;32mimport\u001b[0m \u001b[0mpandas\u001b[0m \u001b[0;32mas\u001b[0m \u001b[0mpd\u001b[0m\u001b[0;34m\u001b[0m\u001b[0;34m\u001b[0m\u001b[0m\n\u001b[0;32m----> 4\u001b[0;31m \u001b[0;32mimport\u001b[0m \u001b[0mseaborn\u001b[0m \u001b[0;32mas\u001b[0m \u001b[0msns\u001b[0m\u001b[0;34m\u001b[0m\u001b[0;34m\u001b[0m\u001b[0m\n\u001b[0m\u001b[1;32m      5\u001b[0m \u001b[0;32mimport\u001b[0m \u001b[0mmatplotlib\u001b[0m\u001b[0;34m.\u001b[0m\u001b[0mpyplot\u001b[0m \u001b[0;32mas\u001b[0m \u001b[0mplt\u001b[0m\u001b[0;34m\u001b[0m\u001b[0;34m\u001b[0m\u001b[0m\n\u001b[1;32m      6\u001b[0m \u001b[0;34m\u001b[0m\u001b[0m\n",
      "\u001b[0;31mModuleNotFoundError\u001b[0m: No module named 'seaborn'"
     ]
    }
   ],
   "source": [
    "import PIL\n",
    "# import easyocr\n",
    "import pandas as pd\n",
    "import seaborn as sns\n",
    "import matplotlib.pyplot as plt\n",
    "\n",
    "from PIL import ImageDraw\n",
    "from _path import DIR_HOME, get_cut_dir, stop_if_none\n",
    "\n",
    "dir_ocr = DIR_HOME + 'src\\\\easyOCR\\\\'\n",
    "dir_result = DIR_HOME + 'src\\\\resultOCR\\\\'"
   ]
  },
  {
   "cell_type": "code",
   "execution_count": null,
   "metadata": {},
   "outputs": [],
   "source": [
    "# filename = 'korean.png'                 #  5 recogs\n",
    "# filename = 'namecard_extracted.png'     #  7 recogs\n",
    "filename = 'english.png'                # 11 recogs\n",
    "# filename = 'news_daum.png'              # 41 recogs\n",
    "# filename = 'AI_compete_2020_KOGAS.jpg'  # 72 recogs\n",
    "\n",
    "size_targeted = (640, 400)              # resize scale\n",
    "post_fix = filename.split('.')[0].split('_')[0]"
   ]
  },
  {
   "cell_type": "code",
   "execution_count": null,
   "metadata": {},
   "outputs": [],
   "source": [
    "# TO LOAD IMAGE\n",
    "im = PIL.Image.open(dir_ocr + filename)\n",
    "im = stop_if_none(im, message='Image loading failed!')\n",
    "\n",
    "im_resize = im.resize(size_targeted, PIL.Image.ANTIALIAS)\n",
    "im_resize = stop_if_none(im_resize, message='Image loading failed!')\n",
    "\n",
    "# TO SHOW IMAGES : ORIGINAL vs. RESIZE\n",
    "# im_resize.show()\n",
    "# im.show()             # NO need ... im_boxed image shows\n",
    "\n",
    "reader = easyocr.Reader(['en', 'ko',])\n",
    "bounds = reader.readtext(dir_ocr + filename)"
   ]
  },
  {
   "cell_type": "code",
   "execution_count": null,
   "metadata": {},
   "outputs": [],
   "source": [
    "# Draw bounding boxes\n",
    "def draw_boxes(image, bounds, color='yellow', width=2):\n",
    "    draw = ImageDraw.Draw(image)\n",
    "    for bound in bounds:\n",
    "        p0, p1, p2, p3 = bound[0]\n",
    "        draw.line([*p0, *p1, *p2, *p3, *p0], fill=color, width=width)\n",
    "    return image"
   ]
  },
  {
   "cell_type": "code",
   "execution_count": null,
   "metadata": {
    "scrolled": true
   },
   "outputs": [],
   "source": [
    "%matplotlib inline\n",
    "im_boxed = draw_boxes(im, bounds)\n",
    "# im_boxed.show()\n",
    "\n",
    "# 저장할 파일 Type : JPEG, PNG 등\n",
    "# 저장할 때 Quality 수준 : 보통 95 사용\n",
    "im_boxed.save(dir_result + f\"im_boxed_{post_fix}.png\", \"png\", quality=95 )\n",
    "\n",
    "im_boxed"
   ]
  },
  {
   "cell_type": "code",
   "execution_count": null,
   "metadata": {},
   "outputs": [],
   "source": [
    "probs, recogs = [], []\n",
    "\n",
    "for idx, line in enumerate(bounds):\n",
    "    recognition = line[-2]\n",
    "    probablity = line[-1] * 100\n",
    "\n",
    "    recogs.append([idx, recognition])\n",
    "    probs.append([idx, probablity])\n",
    "\n",
    "    print(f\"{probablity:0.2f} % ... | {recognition:30}\")"
   ]
  },
  {
   "cell_type": "code",
   "execution_count": null,
   "metadata": {},
   "outputs": [],
   "source": [
    "# TO ANALYZE STATICS of PROBABLITY\n",
    "df_probs = pd.DataFrame(probs)\n",
    "print(df_probs[1].describe())"
   ]
  },
  {
   "cell_type": "code",
   "execution_count": null,
   "metadata": {},
   "outputs": [],
   "source": [
    "for prob in probs:\n",
    "    print(prob)"
   ]
  },
  {
   "cell_type": "code",
   "execution_count": null,
   "metadata": {},
   "outputs": [],
   "source": [
    "# TO DRAW GRAPH : PLOT / HISTOGRAM\n",
    "fig, axes = plt.subplots(2,2, figsize=(9,4))\n",
    "plt.suptitle(f\"chart_{post_fix}.png\",fontsize=20, y=1.01)     # y=gap\n",
    "\n",
    "df_probs[1].plot(\n",
    "                ax=axes[0,0], \n",
    "                title=\"probablity plot\", \n",
    "                grid=1,\n",
    "            )\n",
    "df_probs[1].plot(\n",
    "                kind='hist', \n",
    "                ax=axes[0,1], \n",
    "                title=\"histogram & boxplot\", \n",
    "                grid=1,\n",
    "            )\n",
    "df_probs[1].plot(\n",
    "                kind='bar',\n",
    "                ax=axes[1,0], \n",
    "                grid=1,\n",
    "            )\n",
    "sns.boxplot(\n",
    "                df_probs[1], \n",
    "                ax=axes[1,1],\n",
    "            )\n",
    "\n",
    "\n",
    "plt.savefig(dir_result + f\"chart_{post_fix}.png\")\n",
    "plt.show()"
   ]
  },
  {
   "cell_type": "code",
   "execution_count": null,
   "metadata": {},
   "outputs": [],
   "source": []
  },
  {
   "cell_type": "code",
   "execution_count": null,
   "metadata": {},
   "outputs": [],
   "source": []
  }
 ],
 "metadata": {
  "kernelspec": {
   "display_name": "Python 3",
   "language": "python",
   "name": "python3"
  },
  "language_info": {
   "codemirror_mode": {
    "name": "ipython",
    "version": 3
   },
   "file_extension": ".py",
   "mimetype": "text/x-python",
   "name": "python",
   "nbconvert_exporter": "python",
   "pygments_lexer": "ipython3",
   "version": "3.6.9"
  }
 },
 "nbformat": 4,
 "nbformat_minor": 4
}
