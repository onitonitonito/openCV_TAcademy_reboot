{
 "cells": [
  {
   "cell_type": "markdown",
   "metadata": {},
   "source": [
    "##  [TODO] \n",
    " > error                                     Traceback (most recent call last)\n",
    "<ipython-input-6-91dc2d877c34> in <module>\n",
    "      1 while True:\n",
    "      2     _, img_RGB = vc.read()\n",
    "----> 3     img_gray = cv2.cvtColor(img_RGB, cv2.COLOR_BGR2GRAY)\n",
    "      4 \n",
    "      5     final = detection(img_gray, img_RGB)\n",
    "\n",
    "> error: OpenCV(4.1.1) /home/nvidia/host/build_opencv/nv_opencv/modules/imgproc/src/color.cpp:182: error: (-215:Assertion failed) !_src.empty() in function 'cvtColor'"
   ]
  },
  {
   "cell_type": "code",
   "execution_count": 1,
   "metadata": {},
   "outputs": [
    {
     "name": "stdout",
     "output_type": "stream",
     "text": [
      "\n",
      "# How to Build a Smile Detector. Detect Happiness in Python\n",
      "\n"
     ]
    }
   ],
   "source": [
    "\"\"\"\n",
    "# How to Build a Smile Detector. Detect Happiness in Python\n",
    "\"\"\"\n",
    "# by Rohan Gupta | Towards Data Science = https://bit.ly/3lRKup2\n",
    "# https://raw.githubusercontent.com/opencv/opencv/master/data/haarcascades/haarcascade_frontalface_default.xml\n",
    "print(__doc__)"
   ]
  },
  {
   "cell_type": "code",
   "execution_count": 2,
   "metadata": {},
   "outputs": [
    {
     "name": "stdout",
     "output_type": "stream",
     "text": [
      "\n",
      "# functions : for a few initial path setting\n",
      "\n"
     ]
    }
   ],
   "source": [
    "import cv2\n",
    "\n",
    "from typing import (List, Dict)\n",
    "from _path import (get_cut_dir, stop_if_none)"
   ]
  },
  {
   "cell_type": "code",
   "execution_count": 3,
   "metadata": {},
   "outputs": [],
   "source": [
    "dir_dnn = get_cut_dir('drowsiness_detect') + 'src_dnn/'\n",
    "\n",
    "cascade_face = cv2.CascadeClassifier(dir_dnn + 'haarcascade_frontalface_default.xml')\n",
    "cascade_eye = cv2.CascadeClassifier(dir_dnn + 'haarcascade_eye.xml')\n",
    "cascade_smile = cv2.CascadeClassifier(dir_dnn + 'haarcascade_smile.xml')"
   ]
  },
  {
   "cell_type": "code",
   "execution_count": 4,
   "metadata": {},
   "outputs": [],
   "source": [
    "def detect_face(img_gray, img_RGB) -> object:\n",
    "    return img_RGB\n",
    "\n",
    "def detect_eye(img_gray:object, img_RGB:object) -> object:\n",
    "    # eyd detection &\n",
    "    eyes = cascade_eye.detectMultiScale(\n",
    "                    image=img_gray,\n",
    "                    scaleFactor=1.2,\n",
    "                    minNeighbors=18,\n",
    "                )\n",
    "\n",
    "    for (x_eye, y_eye, w_eye, h_eye) in eyes:\n",
    "        cv2.rectangle(\n",
    "                    img=img_RGB,\n",
    "                    pt1=(x_eye, y_eye),\n",
    "                    pt2=(x_eye+w_eye, y_eye+h_eye),\n",
    "                    color=(0, 180, 60),     # BGR <-- rgb(60, 180, 0)\n",
    "                    thickness=2,\n",
    "                )\n",
    "    return img_RGB\n",
    "\n",
    "def detect_smile(img_gray:object, img_RGB:object) -> object:\n",
    "    # smile detection\n",
    "    smiles = cascade_smile.detectMultiScale(\n",
    "                    image=img_gray,\n",
    "                    scaleFactor=1.7,\n",
    "                    minNeighbors=20,\n",
    "                )\n",
    "\n",
    "    for (x_smile, y_smile, w_smile, h_smile) in smiles:\n",
    "        cv2.rectangle(\n",
    "                    img=img_RGB,\n",
    "                    pt1=(x_smile, y_smile),\n",
    "                    pt2=(x_smile+w_smile, y_smile+h_smile),\n",
    "                    color=(255, 0, 130),    # BGR <-- rgb(130, 0, 255)\n",
    "                    thickness=2,\n",
    "                )\n",
    "    return img_RGB\n",
    "\n",
    "\n",
    "def detection(img_gray, img_RGB):\n",
    "    \"\"\"#  detect faces & set rectangles on positions\"\"\"\n",
    "    # face detecttion & set squares on them\n",
    "    faces = cascade_face.detectMultiScale(\n",
    "                    image=img_gray,\n",
    "                    scaleFactor=1.3,\n",
    "                    minNeighbors=5,\n",
    "                )\n",
    "\n",
    "    for (x_face, y_face, w_face, h_face) in faces:\n",
    "        cv2.rectangle(\n",
    "                    img=img_RGB,\n",
    "                    pt1=(x_face, y_face),\n",
    "                    pt2=(x_face+w_face, y_face+h_face),\n",
    "                    color=(255, 130, 0),    # BGR <-- rgb(0, 130, 255)\n",
    "                    thickness=2,\n",
    "                )\n",
    "\n",
    "        ri_gray = img_gray[\n",
    "                    y_face:y_face + h_face,\n",
    "                    x_face:x_face + w_face,]\n",
    "\n",
    "        ri_RGB = img_RGB[\n",
    "                    y_face:y_face + h_face,\n",
    "                    x_face:x_face + w_face,]\n",
    "\n",
    "        detect_eye(ri_gray, ri_RGB)\n",
    "        detect_smile(ri_gray, ri_RGB)\n",
    "\n",
    "    return img_RGB"
   ]
  },
  {
   "cell_type": "code",
   "execution_count": 5,
   "metadata": {},
   "outputs": [],
   "source": [
    "vc = cv2.VideoCapture(0)"
   ]
  },
  {
   "cell_type": "code",
   "execution_count": 6,
   "metadata": {},
   "outputs": [
    {
     "ename": "error",
     "evalue": "OpenCV(4.1.1) /home/nvidia/host/build_opencv/nv_opencv/modules/imgproc/src/color.cpp:182: error: (-215:Assertion failed) !_src.empty() in function 'cvtColor'\n",
     "output_type": "error",
     "traceback": [
      "\u001b[0;31m---------------------------------------------------------------------------\u001b[0m",
      "\u001b[0;31merror\u001b[0m                                     Traceback (most recent call last)",
      "\u001b[0;32m<ipython-input-6-91dc2d877c34>\u001b[0m in \u001b[0;36m<module>\u001b[0;34m\u001b[0m\n\u001b[1;32m      1\u001b[0m \u001b[0;32mwhile\u001b[0m \u001b[0;32mTrue\u001b[0m\u001b[0;34m:\u001b[0m\u001b[0;34m\u001b[0m\u001b[0;34m\u001b[0m\u001b[0m\n\u001b[1;32m      2\u001b[0m     \u001b[0m_\u001b[0m\u001b[0;34m,\u001b[0m \u001b[0mimg_RGB\u001b[0m \u001b[0;34m=\u001b[0m \u001b[0mvc\u001b[0m\u001b[0;34m.\u001b[0m\u001b[0mread\u001b[0m\u001b[0;34m(\u001b[0m\u001b[0;34m)\u001b[0m\u001b[0;34m\u001b[0m\u001b[0;34m\u001b[0m\u001b[0m\n\u001b[0;32m----> 3\u001b[0;31m     \u001b[0mimg_gray\u001b[0m \u001b[0;34m=\u001b[0m \u001b[0mcv2\u001b[0m\u001b[0;34m.\u001b[0m\u001b[0mcvtColor\u001b[0m\u001b[0;34m(\u001b[0m\u001b[0mimg_RGB\u001b[0m\u001b[0;34m,\u001b[0m \u001b[0mcv2\u001b[0m\u001b[0;34m.\u001b[0m\u001b[0mCOLOR_BGR2GRAY\u001b[0m\u001b[0;34m)\u001b[0m\u001b[0;34m\u001b[0m\u001b[0;34m\u001b[0m\u001b[0m\n\u001b[0m\u001b[1;32m      4\u001b[0m \u001b[0;34m\u001b[0m\u001b[0m\n\u001b[1;32m      5\u001b[0m     \u001b[0mfinal\u001b[0m \u001b[0;34m=\u001b[0m \u001b[0mdetection\u001b[0m\u001b[0;34m(\u001b[0m\u001b[0mimg_gray\u001b[0m\u001b[0;34m,\u001b[0m \u001b[0mimg_RGB\u001b[0m\u001b[0;34m)\u001b[0m\u001b[0;34m\u001b[0m\u001b[0;34m\u001b[0m\u001b[0m\n",
      "\u001b[0;31merror\u001b[0m: OpenCV(4.1.1) /home/nvidia/host/build_opencv/nv_opencv/modules/imgproc/src/color.cpp:182: error: (-215:Assertion failed) !_src.empty() in function 'cvtColor'\n"
     ]
    }
   ],
   "source": [
    "while True:\n",
    "    _, img_RGB = vc.read()\n",
    "    img_gray = cv2.cvtColor(img_RGB, cv2.COLOR_BGR2GRAY)\n",
    "\n",
    "    final = detection(img_gray, img_RGB)\n",
    "    cv2.imshow('Video', final)\n",
    "\n",
    "    if cv2.waitKey(1) & 0xFF == ord('q'):\n",
    "        break"
   ]
  },
  {
   "cell_type": "code",
   "execution_count": 7,
   "metadata": {},
   "outputs": [],
   "source": [
    "vc.release()\n",
    "cv2.destroyAllWindows()"
   ]
  },
  {
   "cell_type": "code",
   "execution_count": null,
   "metadata": {},
   "outputs": [],
   "source": []
  },
  {
   "cell_type": "code",
   "execution_count": null,
   "metadata": {},
   "outputs": [],
   "source": []
  }
 ],
 "metadata": {
  "kernelspec": {
   "display_name": "Python 3",
   "language": "python",
   "name": "python3"
  },
  "language_info": {
   "codemirror_mode": {
    "name": "ipython",
    "version": 3
   },
   "file_extension": ".py",
   "mimetype": "text/x-python",
   "name": "python",
   "nbconvert_exporter": "python",
   "pygments_lexer": "ipython3",
   "version": "3.6.9"
  }
 },
 "nbformat": 4,
 "nbformat_minor": 4
}
