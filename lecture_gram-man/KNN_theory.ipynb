{
 "cells": [
  {
   "cell_type": "markdown",
   "metadata": {},
   "source": [
    "# k-Nearest Neighbour(kNN)\n",
    "### 1.0 Goal \n",
    "> k-Nearest Neighbour(kNN) 알고리즘에 대해서 알 수 있다.\n",
    "\n",
    "### 2.0 Theory\n",
    "> `\n",
    "Machine Learning에는 지도학습(Supervised Learning)과 비지도학습(Unsupervised Learning)가 있습니다. 지도학습은 훈련용 Data를 만들고, 사람이 답을 알려 줍니다. 그러면 컴퓨터는 알고리즘을 이용하여 훈련용으로 제시되지 않은 Data에 대해서도 값을 찾아 냅니다.\n",
    "비지도학습은 훈련용 Data에 답을 제시하고 않고 컴퓨터가 스스로 답을 찾아내는 방법입니다.kNN은 지도학습 중 단순한 알고리즘을 이용한 방법입니다.`\n",
    "\n",
    "> ![](https://opencv-python.readthedocs.io/en/latest/_images/image014.png)"
   ]
  },
  {
   "cell_type": "code",
   "execution_count": 1,
   "metadata": {},
   "outputs": [],
   "source": [
    "import cv2\n",
    "import numpy as np\n",
    "from matplotlib import pyplot as plt"
   ]
  },
  {
   "cell_type": "code",
   "execution_count": null,
   "metadata": {},
   "outputs": [],
   "source": []
  },
  {
   "cell_type": "code",
   "execution_count": null,
   "metadata": {},
   "outputs": [],
   "source": []
  },
  {
   "cell_type": "code",
   "execution_count": 6,
   "metadata": {},
   "outputs": [
    {
     "name": "stdout",
     "output_type": "stream",
     "text": [
      "result :  [[1.]]\n",
      "neighbours : [[1. 1. 0.]]\n",
      "distance:  [[144. 232. 365.]]\n"
     ]
    },
    {
     "data": {
      "image/png": "[encoded data removed]",
      "text/plain": [
       "<Figure size 432x288 with 1 Axes>"
      ]
     },
     "metadata": {
      "needs_background": "light"
     },
     "output_type": "display_data"
    }
   ],
   "source": [
    "trainData = np.random.randint(0,100,(25,2)).astype(np.float32)\n",
    "response = np.random.randint(0,2,(25,1)).astype(np.float32)\n",
    "\n",
    "red = trainData[response.ravel() == 0] #red는 0 class로 분류\n",
    "plt.scatter(red[:,0],red[:,1], 80,'r','^')\n",
    "\n",
    "blue = trainData[response.ravel() == 1] #blue는 1 Class분류\n",
    "plt.scatter(blue[:,0], blue[:,1], 80, 'b', 's')\n",
    "\n",
    "newcomer = np.random.randint(0,100,(1,2)).astype(np.float32)\n",
    "plt.scatter(newcomer[:,0], newcomer[:,1],80,'g', 'o')\n",
    "\n",
    "knn = cv2.ml.KNearest_create()\n",
    "knn.train(trainData, cv2.ml.ROW_SAMPLE, response)\n",
    "ret, results, neighbours, dist = knn.findNearest(newcomer, 3) #k 값을 3으로 설정\n",
    "\n",
    "print(\"result : \", results)\n",
    "print(\"neighbours :\", neighbours)\n",
    "print(\"distance: \", dist)\n",
    "\n",
    "plt.show()"
   ]
  },
  {
   "cell_type": "code",
   "execution_count": null,
   "metadata": {},
   "outputs": [],
   "source": []
  },
  {
   "cell_type": "code",
   "execution_count": null,
   "metadata": {},
   "outputs": [],
   "source": []
  }
 ],
 "metadata": {
  "kernelspec": {
   "display_name": "Python 3",
   "language": "python",
   "name": "python3"
  },
  "language_info": {
   "codemirror_mode": {
    "name": "ipython",
    "version": 3
   },
   "file_extension": ".py",
   "mimetype": "text/x-python",
   "name": "python",
   "nbconvert_exporter": "python",
   "pygments_lexer": "ipython3",
   "version": "3.6.9"
  }
 },
 "nbformat": 4,
 "nbformat_minor": 4
}
