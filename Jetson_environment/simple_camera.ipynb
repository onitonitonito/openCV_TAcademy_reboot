{
 "cells": [
  {
   "cell_type": "markdown",
   "metadata": {},
   "source": [
    "## SIMPLR CAMERA STREAMING TEST"
   ]
  },
  {
   "cell_type": "code",
   "execution_count": 8,
   "metadata": {},
   "outputs": [],
   "source": [
    "import cv2"
   ]
  },
  {
   "cell_type": "code",
   "execution_count": 21,
   "metadata": {},
   "outputs": [],
   "source": [
    "def gstreamer_pipeline(  \n",
    "        sensor_id=0, \n",
    "        sensor_mode=3, \n",
    "        flip_method=0,\n",
    "        framerate=22,\n",
    "        capture_width=3280, \n",
    "        capture_height=2464,\n",
    "        display_width=640, \n",
    "        display_height=410,\n",
    "    ) -> str:\n",
    "    \"\"\" return default streaming commands-line 'String'\n",
    "    | MAX_Frame_rate = 22fps@3296x2512 / 60fps@\n",
    "    | Pixel Count: 3280 x 2464 (active pixels) 3296 x 2512 (total pixels)\n",
    "    \"\"\"\n",
    "    return (\n",
    "        \"nvarguscamerasrc sensor-id=%d sensor-mode=%d ! \"\n",
    "        \"video/x-raw(memory:NVMM), \"\n",
    "        \"width=(int)%d, height=(int)%d, \"\n",
    "        \"format=(string)NV12, framerate=(fraction)%d/1 ! \"\n",
    "        \"nvvidconv flip-method=%d ! \"\n",
    "        \"video/x-raw, width=(int)%d, height=(int)%d, format=(string)BGRx ! \"\n",
    "        \"videoconvert ! \"\n",
    "        \"video/x-raw, format=(string)BGR ! appsink\"\n",
    "        % (\n",
    "            sensor_id,\n",
    "            sensor_mode,\n",
    "            capture_width,\n",
    "            capture_height,\n",
    "            framerate,\n",
    "            flip_method,\n",
    "            display_width,\n",
    "            display_height,\n",
    "        )\n",
    "    )"
   ]
  },
  {
   "cell_type": "code",
   "execution_count": 23,
   "metadata": {},
   "outputs": [
    {
     "data": {
      "text/plain": [
       "'nvarguscamerasrc sensor-id=1 sensor-mode=3 ! video/x-raw(memory:NVMM), width=(int)3280, height=(int)2464, format=(string)NV12, framerate=(fraction)22/1 ! nvvidconv flip-method=2 ! video/x-raw, width=(int)640, height=(int)410, format=(string)BGRx ! videoconvert ! video/x-raw, format=(string)BGR ! appsink'"
      ]
     },
     "execution_count": 23,
     "metadata": {},
     "output_type": "execute_result"
    }
   ],
   "source": [
    "gstreamer_pipeline(sensor_id=1, flip_method=2)"
   ]
  },
  {
   "cell_type": "code",
   "execution_count": 24,
   "metadata": {},
   "outputs": [],
   "source": [
    "def show_camera():\n",
    "    video_commands = gstreamer_pipeline()\n",
    "    print(video_commands)\n",
    "    \n",
    "    cap = cv2.VideoCapture(video_commands, cv2.CAP_GSTREAMER)\n",
    "    if cap.isOpened():\n",
    "        window_handle = cv2.namedWindow(\"CSI Camera\", cv2.WINDOW_AUTOSIZE)\n",
    "        while cv2.getWindowProperty(\"CSI Camera\", 0) >= 0:\n",
    "            ret_val, img = cap.read()\n",
    "            cv2.imshow(\"CSI Camera\", img)\n",
    "\n",
    "            # This also acts as\n",
    "            keyCode = cv2.waitKey(30) & 0xFF\n",
    "\n",
    "            # Stop the program on the ESC key\n",
    "            if keyCode == 27:\n",
    "                break\n",
    "        cap.release()\n",
    "        cv2.destroyAllWindows()\n",
    "    else:\n",
    "        print(\"Unable to open camera\")"
   ]
  },
  {
   "cell_type": "code",
   "execution_count": null,
   "metadata": {},
   "outputs": [
    {
     "name": "stdout",
     "output_type": "stream",
     "text": [
      "nvarguscamerasrc sensor-id=0 sensor-mode=3 ! video/x-raw(memory:NVMM), width=(int)3280, height=(int)2464, format=(string)NV12, framerate=(fraction)22/1 ! nvvidconv flip-method=0 ! video/x-raw, width=(int)640, height=(int)410, format=(string)BGRx ! videoconvert ! video/x-raw, format=(string)BGR ! appsink\n"
     ]
    }
   ],
   "source": [
    "show_camera()"
   ]
  },
  {
   "cell_type": "code",
   "execution_count": null,
   "metadata": {},
   "outputs": [],
   "source": []
  }
 ],
 "metadata": {
  "kernelspec": {
   "display_name": "Python 3",
   "language": "python",
   "name": "python3"
  },
  "language_info": {
   "codemirror_mode": {
    "name": "ipython",
    "version": 3
   },
   "file_extension": ".py",
   "mimetype": "text/x-python",
   "name": "python",
   "nbconvert_exporter": "python",
   "pygments_lexer": "ipython3",
   "version": "3.6.9"
  }
 },
 "nbformat": 4,
 "nbformat_minor": 4
}
