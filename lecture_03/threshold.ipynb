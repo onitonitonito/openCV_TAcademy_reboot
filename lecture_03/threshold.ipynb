{
 "cells": [
  {
   "cell_type": "markdown",
   "metadata": {},
   "source": [
    "## Threshold Slide\n",
    " - Threshild 값을 조정하며 이미지 변경사항 확인"
   ]
  },
  {
   "cell_type": "code",
   "execution_count": 1,
   "metadata": {},
   "outputs": [
    {
     "name": "stdout",
     "output_type": "stream",
     "text": [
      "\n",
      "# functions : for a few initial path setting\n",
      "\n"
     ]
    }
   ],
   "source": [
    "import sys\n",
    "import cv2\n",
    "\n",
    "from histogram import ( getGrayHistImage, calcGrayHist )\n",
    "from _path import get_cut_dir\n",
    "dir_src = get_cut_dir('openCV_TAcademy') + 'src/'"
   ]
  },
  {
   "cell_type": "code",
   "execution_count": 2,
   "metadata": {},
   "outputs": [],
   "source": [
    "filename = 'namecard1.jpg'\n",
    "# 실행 시 다른 인자가 있을때는 추가인자를 기준으로 반영한다.\n",
    "# if len(sys.argv) > 1:\n",
    "#     filename = sys.argv[1]\n",
    "\n",
    "src_gray = cv2.imread(dir_src + filename, cv2.IMREAD_GRAYSCALE)\n",
    "\n",
    "# 이미지 로딩 실패시 : 시스템 종료\n",
    "if src_gray is None:\n",
    "    print('Image load failed!')\n",
    "    sys.exit()"
   ]
  },
  {
   "cell_type": "code",
   "execution_count": 3,
   "metadata": {},
   "outputs": [],
   "source": [
    "src_gray_resized = cv2.resize(src_gray, (0, 0), fx=0.5, fy=0.5)\n",
    "cv2.imshow('src_gray_resized', src_gray_resized)\n",
    "\n",
    "hist_img = getGrayHistImage(calcGrayHist(src_gray_resized))\n",
    "hist_img = cv2.cvtColor(hist_img, cv2.COLOR_GRAY2BGR)\n",
    "cv2.imshow('hist_img', hist_img)"
   ]
  },
  {
   "cell_type": "code",
   "execution_count": 4,
   "metadata": {},
   "outputs": [],
   "source": [
    "def on_threshold(pos):\n",
    "    _, dst = cv2.threshold(src_gray_resized, pos, 255, cv2.THRESH_BINARY)\n",
    "    hist_img2 = hist_img.copy()\n",
    "    cv2.line(hist_img2, (pos, 0), (pos, 100), (0, 128, 255))\n",
    "    cv2.imshow('hist_img', hist_img2)\n",
    "    cv2.imshow('dst', dst)"
   ]
  },
  {
   "cell_type": "code",
   "execution_count": 5,
   "metadata": {},
   "outputs": [],
   "source": [
    "cv2.namedWindow('dst')\n",
    "cv2.createTrackbar('Threshold', 'dst', 0, 255, on_threshold)\n",
    "cv2.setTrackbarPos('Threshold', 'dst', 130)\n",
    "\n",
    "cv2.waitKey()\n",
    "cv2.destroyAllWindows()"
   ]
  },
  {
   "cell_type": "code",
   "execution_count": null,
   "metadata": {},
   "outputs": [],
   "source": []
  }
 ],
 "metadata": {
  "kernelspec": {
   "display_name": "Python 3",
   "language": "python",
   "name": "python3"
  },
  "language_info": {
   "codemirror_mode": {
    "name": "ipython",
    "version": 3
   },
   "file_extension": ".py",
   "mimetype": "text/x-python",
   "name": "python",
   "nbconvert_exporter": "python",
   "pygments_lexer": "ipython3",
   "version": "3.6.9"
  }
 },
 "nbformat": 4,
 "nbformat_minor": 4
}
