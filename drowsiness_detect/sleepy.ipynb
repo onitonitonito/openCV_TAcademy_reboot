{
 "cells": [
  {
   "cell_type": "markdown",
   "metadata": {},
   "source": [
    "## [TODO]\n",
    "> ` \n",
    "ModuleNotFoundError  Traceback (most recent call last)\n",
    "<ipython-input-3-86efaff83347> in <module>\n",
    "      1 import cv2\n",
    "      2 import numpy as np\n",
    "  --> 3 import tensorflow as tf\n",
    "ModuleNotFoundError: No module named 'tensorflow'\n",
    "`"
   ]
  },
  {
   "cell_type": "code",
   "execution_count": null,
   "metadata": {},
   "outputs": [],
   "source": [
    "\"\"\"\n",
    "# openCV CLOSE-EYE DETECTION : Haar-Cascade Classifier\n",
    "#  - IF SCORE over 15: CLOSE\n",
    "#   * ALARM RING!                   = DISABLED!\n",
    "#   * CAPTURE SCENE                 = DISABLED!\n",
    "#   * FRAME TURN RED! AND BLINKING! = ENABLE\n",
    "# need tensorflow==2.0\n",
    "\"\"\"\n",
    "# [OpenCV] putText 폰트 c++ = https://bit.ly/34IOQc3\n",
    "# TF higher version occure DICT issue : refer below\n",
    "# https://github.com/tensorflow/tensorflow/issues/38135\n",
    "print(__doc__)"
   ]
  },
  {
   "cell_type": "code",
   "execution_count": null,
   "metadata": {},
   "outputs": [],
   "source": [
    "import cv2\n",
    "import numpy as np\n",
    "import tensorflow as tf\n",
    "\n",
    "tf.__version__    # '1.15.2'"
   ]
  },
  {
   "cell_type": "code",
   "execution_count": null,
   "metadata": {},
   "outputs": [],
   "source": [
    "from _path import (get_cut_dir, stop_if_none)\n",
    "dir_dnn = get_cut_dir('drowsiness_detect') + 'src_dnn/'"
   ]
  },
  {
   "cell_type": "code",
   "execution_count": null,
   "metadata": {},
   "outputs": [],
   "source": [
    "lbl = ['CLOSED', 'OPEN']\n",
    "face_x, face_y = 0, 0\n",
    "detect_color=(30, 182, 15)   # BGR <- rgb(15, 182, 20)"
   ]
  },
  {
   "cell_type": "code",
   "execution_count": null,
   "metadata": {},
   "outputs": [],
   "source": [
    "model = tf.keras.models.load_model(dir_dnn + 'cnnCat2.h5')"
   ]
  },
  {
   "cell_type": "code",
   "execution_count": null,
   "metadata": {},
   "outputs": [],
   "source": [
    "count = 0\n",
    "score = 0\n",
    "thicc = 2"
   ]
  },
  {
   "cell_type": "code",
   "execution_count": null,
   "metadata": {},
   "outputs": [],
   "source": [
    "rpred, lpred = [-1], [-1]\n",
    "\n",
    "cap = cv2.VideoCapture(0)\n",
    "cap = stop_if_none(cap, \"VIDEO LOAD FAILED!\")"
   ]
  },
  {
   "cell_type": "code",
   "execution_count": null,
   "metadata": {},
   "outputs": [],
   "source": [
    "# 프레임 크기\n",
    "width = cap.get(cv2.CAP_PROP_FRAME_WIDTH)\n",
    "height = cap.get(cv2.CAP_PROP_FRAME_HEIGHT)\n",
    "count = cap.get(cv2.CAP_PROP_FRAME_COUNT)\n",
    "fps = cap.get(cv2.CAP_PROP_FPS)"
   ]
  },
  {
   "cell_type": "code",
   "execution_count": null,
   "metadata": {},
   "outputs": [],
   "source": [
    "# 프레임 해상도, 전체 프레임수, FPS 출력\n",
    "print('Frame width:', width)\n",
    "print('Frame height:', height)\n",
    "print('Frame count:', count)\n",
    "print('FPS:', fps)"
   ]
  },
  {
   "cell_type": "code",
   "execution_count": null,
   "metadata": {},
   "outputs": [],
   "source": [
    "# font = cv2.FONT_HERSHEY_COMPLEX_SMALL\n",
    "font = cv2.FONT_HERSHEY_SIMPLEX"
   ]
  },
  {
   "cell_type": "code",
   "execution_count": null,
   "metadata": {},
   "outputs": [],
   "source": [
    "while(True):\n",
    "    _, frame = cap.read()\n",
    "    height, width = frame.shape[:2]\n",
    "\n",
    "    gray = cv2.cvtColor(frame, cv2.COLOR_BGR2GRAY)\n",
    "\n",
    "    faces = face.detectMultiScale(\n",
    "                gray,\n",
    "                minNeighbors=5,\n",
    "                scaleFactor=1.1,\n",
    "                minSize=(25, 25))\n",
    "\n",
    "    left_eye = leye.detectMultiScale(gray)\n",
    "    right_eye = reye.detectMultiScale(gray)\n",
    "\n",
    "    cv2.rectangle(                      # BLACK FILLED RACT.\n",
    "                img=frame,\n",
    "                pt1=(0, height - 50),\n",
    "                pt2=(220, height),\n",
    "                color=(0, 0, 0),\n",
    "                thickness=cv2.FILLED)\n",
    "\n",
    "    for (face_x, face_y, face_w, face_h) in faces:\n",
    "        cv2.rectangle(\n",
    "                img=frame,\n",
    "                pt1=(face_x, face_y),\n",
    "                pt2=(face_x + face_w, face_y + face_h),\n",
    "                color=detect_color,\n",
    "                thickness=4)\n",
    "\n",
    "    for (x, y, w, h) in right_eye:\n",
    "        r_eye = frame[y:y + h, x:x + w]\n",
    "        count = count + 1\n",
    "        r_eye = cv2.cvtColor(r_eye, cv2.COLOR_BGR2GRAY)\n",
    "\n",
    "        r_eye = cv2.resize(r_eye, (24, 24))\n",
    "        r_eye = r_eye / 255\n",
    "        r_eye = r_eye.reshape(24, 24, -1)\n",
    "        r_eye = np.expand_dims(r_eye, axis=0)\n",
    "\n",
    "        rpred = model.predict_classes(r_eye)\n",
    "\n",
    "        lbl = 'OPEN' if(rpred[0] == 1) else 'CLOSED'\n",
    "        break\n",
    "\n",
    "    for (x, y, w, h) in left_eye:\n",
    "        l_eye = frame[y:y + h, x:x + w]\n",
    "        count = count + 1\n",
    "        l_eye = cv2.cvtColor(l_eye, cv2.COLOR_BGR2GRAY)\n",
    "\n",
    "        l_eye = cv2.resize(l_eye, (24, 24))\n",
    "        l_eye = l_eye / 255\n",
    "        l_eye = l_eye.reshape(24, 24, -1)\n",
    "        l_eye = np.expand_dims(l_eye, axis=0)\n",
    "\n",
    "        lpred = model.predict_classes(l_eye)\n",
    "\n",
    "        lbl = 'OPEN' if(lpred[0] == 1) else 'CLOSED'\n",
    "        break\n",
    "\n",
    "    if(rpred[0] == 0 and lpred[0] == 0):\n",
    "        detect_color = (27, 27, 224)        # BGR <- rgb(224, 27, 27)\n",
    "        detect_text = 'CLOSED'\n",
    "        if score <= 30:\n",
    "            score += 1\n",
    "        else:\n",
    "            score = 40\n",
    "    else:\n",
    "        detect_color=(30, 182, 15)          # BGR <- rgb(15, 182, 30)\n",
    "        detect_text = 'OPEN'\n",
    "        if score >= 1:\n",
    "            score -= 1\n",
    "        else:\n",
    "            score = 0\n",
    "\n",
    "    cv2.putText(\n",
    "                img=frame,\n",
    "                text=detect_text,\n",
    "                org=(face_x, face_y-10),      # Bottom-left coord\n",
    "                fontFace=font,\n",
    "                fontScale=0.9,\n",
    "                color=detect_color,\n",
    "                thickness=2,\n",
    "                lineType=cv2.LINE_AA)\n",
    "\n",
    "    cv2.putText(\n",
    "                img=frame,\n",
    "                text=\"Warn Level: \"+ str(score),\n",
    "                org=(10, height - 15),\n",
    "                fontFace=font,\n",
    "                fontScale=0.7,\n",
    "                color=(255, 255, 255),       # BGR <-\n",
    "                thickness=2,\n",
    "                lineType=cv2.LINE_AA)\n",
    "\n",
    "    if(score > 15):                   # IF SLEEPY\n",
    "        # FRAME BLINKING!\n",
    "        if(thicc < 25):\n",
    "            thicc = thicc + 4\n",
    "        else:\n",
    "            thicc = thicc - 4\n",
    "            if(thicc < 2):\n",
    "                thicc = 2\n",
    "\n",
    "        cv2.rectangle(\n",
    "                    img=frame,\n",
    "                    pt1=(0, 0),\n",
    "                    pt2=(width, height),\n",
    "                    color=(226, 0, 238),       # BGR <- rgb(238, 0, 226)\n",
    "                    thickness=thicc)\n",
    "\n",
    "    cv2.imshow('frame : Haar-Casecade Detect', frame)\n",
    "\n",
    "    if cv2.waitKey(1) & 0xFF == ord('q'):\n",
    "        break"
   ]
  },
  {
   "cell_type": "code",
   "execution_count": null,
   "metadata": {},
   "outputs": [],
   "source": [
    "# CLEAN & REMOVE DEVICE\n",
    "cap.release()\n",
    "cv2.destroyAllWindows()"
   ]
  }
 ],
 "metadata": {
  "kernelspec": {
   "display_name": "Python 3",
   "language": "python",
   "name": "python3"
  },
  "language_info": {
   "codemirror_mode": {
    "name": "ipython",
    "version": 3
   },
   "file_extension": ".py",
   "mimetype": "text/x-python",
   "name": "python",
   "nbconvert_exporter": "python",
   "pygments_lexer": "ipython3",
   "version": "3.6.9"
  }
 },
 "nbformat": 4,
 "nbformat_minor": 4
}
