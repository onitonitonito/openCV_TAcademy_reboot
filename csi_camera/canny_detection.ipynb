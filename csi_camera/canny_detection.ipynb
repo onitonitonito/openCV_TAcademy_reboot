{
 "cells": [
  {
   "cell_type": "markdown",
   "metadata": {},
   "source": [
    "## Canny layout extract"
   ]
  },
  {
   "cell_type": "code",
   "execution_count": 1,
   "metadata": {},
   "outputs": [],
   "source": [
    "import os\n",
    "import sys\n",
    "import argparse\n",
    "import cv2\n",
    "import numpy as np"
   ]
  },
  {
   "cell_type": "code",
   "execution_count": 2,
   "metadata": {},
   "outputs": [
    {
     "name": "stdout",
     "output_type": "stream",
     "text": [
      "\n",
      "# functions : for a few initial path setting\n",
      "\n"
     ]
    }
   ],
   "source": [
    "from _path import get_cut_dir, stop_if_none, DIR_HOME, DIR_SRC"
   ]
  },
  {
   "cell_type": "code",
   "execution_count": 3,
   "metadata": {},
   "outputs": [
    {
     "data": {
      "text/plain": [
       "['namecard1.jpg',\n",
       " 'cat.bmp',\n",
       " 'lena.bmp',\n",
       " 'Lenna.png',\n",
       " 'coins.png',\n",
       " 'namecard2.jpg',\n",
       " 'namecard3.jpg']"
      ]
     },
     "execution_count": 3,
     "metadata": {},
     "output_type": "execute_result"
    }
   ],
   "source": [
    "# os.chdir()\n",
    "vaild_exts = 'bmp png jpg'.split()\n",
    "imgs = [file for file in os.listdir(DIR_SRC) \n",
    "        if len(file.split('.')) > 1 and \\\n",
    "            file.split('.')[-1] in vaild_exts]\n",
    "imgs"
   ]
  },
  {
   "cell_type": "code",
   "execution_count": 4,
   "metadata": {},
   "outputs": [],
   "source": [
    "def open_onboard_camera():\n",
    "    video_commands_splited =[\n",
    "        ' nvarguscamerasrc ',\n",
    "        ' video/x-raw(memory:NVMM), width=(int)640, height=(int)480, format=(string)NV12, framerate=(fraction)30/1 ',\n",
    "        ' nvvidconv ',\n",
    "        ' video/x-raw, format=(string)BGRx ',\n",
    "        ' videoconvert ',\n",
    "        ' video/x-raw, format=(string)BGR ',\n",
    "        ' appsink',\n",
    "    ]\n",
    "    return cv2.VideoCapture(\"!\".join(video_commands_splited))\n",
    "\n",
    "# Open an external usb camera /dev/videoX - if you have an External WEB-CAM\n",
    "def open_camera_device(device_number):\n",
    "    return cv2.VideoCapture(device_number)"
   ]
  },
  {
   "cell_type": "code",
   "execution_count": 5,
   "metadata": {},
   "outputs": [],
   "source": [
    "def read_cam(video_capture):\n",
    "    if video_capture.isOpened():\n",
    "        windowName = \"CannyDemo\"\n",
    "        cv2.namedWindow(windowName, cv2.WINDOW_NORMAL)\n",
    "        cv2.resizeWindow(windowName,1280,720)\n",
    "        cv2.moveWindow(windowName,0,0)\n",
    "        cv2.setWindowTitle(windowName,\"Canny Edge Detection\")\n",
    "        \n",
    "        showWindow=3  # Show all stages\n",
    "        showHelp = True\n",
    "        font = cv2.FONT_HERSHEY_PLAIN \n",
    "        helpText=\"'Esc' to Quit, '1' for Camera Feed, '2' for Canny Detection, '3' for All Stages. '4' to hide help\"\n",
    "        edgeThreshold=40\n",
    "        showFullScreen = False\n",
    "        \n",
    "        while True:\n",
    "            if cv2.getWindowProperty(windowName, 0) < 0: \n",
    "                break;\n",
    "                \n",
    "            ret_val, frame = video_capture.read();\n",
    "            hsv=cv2.cvtColor(frame, cv2.COLOR_BGR2GRAY)\n",
    "            blur=cv2.GaussianBlur(hsv,(7,7),1.5)\n",
    "            edges=cv2.Canny(blur,0,edgeThreshold)\n",
    "            \n",
    "            if showWindow == 3:  \n",
    "                frameRs=cv2.resize(frame, (640,360))\n",
    "                hsvRs=cv2.resize(hsv,(640,360))\n",
    "                vidBuf = np.concatenate((frameRs, cv2.cvtColor(hsvRs,cv2.COLOR_GRAY2BGR)), axis=1)\n",
    "                blurRs=cv2.resize(blur,(640,360))\n",
    "                edgesRs=cv2.resize(edges,(640,360))\n",
    "                vidBuf1 = np.concatenate( (cv2.cvtColor(blurRs,cv2.COLOR_GRAY2BGR),cv2.cvtColor(edgesRs,cv2.COLOR_GRAY2BGR)), axis=1)\n",
    "                vidBuf = np.concatenate( (vidBuf, vidBuf1), axis=0)\n",
    "\n",
    "            if showWindow==1:\n",
    "                displayBuf = frame\n",
    "                \n",
    "            elif showWindow == 2: \n",
    "                displayBuf = edges\n",
    "                \n",
    "            elif showWindow == 3:\n",
    "                displayBuf = vidBuf\n",
    "\n",
    "            if showHelp == True:\n",
    "                cv2.putText(displayBuf, helpText, (11,20), font, 1.0, (32,32,32), 4, cv2.LINE_AA)\n",
    "                cv2.putText(displayBuf, helpText, (10,20), font, 1.0, (240,240,240), 1, cv2.LINE_AA)\n",
    "                \n",
    "            cv2.imshow(windowName,displayBuf)\n",
    "            key=cv2.waitKey(10)\n",
    "            \n",
    "            if key == 27: # ESC-key\n",
    "                cv2.destroyAllWindows()\n",
    "                break ;\n",
    "                \n",
    "            elif key==49: # 1-key, show frame\n",
    "                cv2.setWindowTitle(windowName,\"Camera Feed\")\n",
    "                showWindow=1\n",
    "                \n",
    "            elif key==50: # 2-key, show Canny\n",
    "                cv2.setWindowTitle(windowName,\"Canny Edge Detection\")\n",
    "                showWindow=2\n",
    "                \n",
    "            elif key==51: # 3-key, show every Stages\n",
    "                cv2.setWindowTitle(windowName,\"Camera, Gray scale, Gaussian Blur, Canny Edge Detection\")\n",
    "                showWindow=3\n",
    "                \n",
    "            elif key==52: # 4-key, toggle help-text\n",
    "                showHelp = not showHelp\n",
    "                \n",
    "            elif key==44: # ','-key, lower canny edge threshold\n",
    "                edgeThreshold=max(0,edgeThreshold-1)\n",
    "                print ('Canny Edge Threshold Maximum: ',edgeThreshold)\n",
    "                \n",
    "            elif key==46: # '.'-key, raise canny edge threshold\n",
    "                edgeThreshold=edgeThreshold+1\n",
    "                print ('Canny Edge Threshold Maximum: ', edgeThreshold)\n",
    "                \n",
    "            elif key==74: # Toggle fullscreen; This is the F3 key on this particular keyboard\n",
    "                # Toggle full screen mode\n",
    "                if showFullScreen == False : \n",
    "                    cv2.setWindowProperty(windowName, cv2.WND_PROP_FULLSCREEN, cv2.WINDOW_FULLSCREEN)\n",
    "                else:\n",
    "                    cv2.setWindowProperty(windowName, cv2.WND_PROP_FULLSCREEN, cv2.WINDOW_NORMAL) \n",
    "                showFullScreen = not showFullScreen\n",
    "              \n",
    "    else:\n",
    "     print (\"camera open failed\")"
   ]
  },
  {
   "cell_type": "code",
   "execution_count": 6,
   "metadata": {},
   "outputs": [
    {
     "name": "stdout",
     "output_type": "stream",
     "text": [
      "Canny Edge Threshold Maximum:  39\n",
      "Canny Edge Threshold Maximum:  38\n",
      "Canny Edge Threshold Maximum:  37\n",
      "Canny Edge Threshold Maximum:  36\n",
      "Canny Edge Threshold Maximum:  35\n",
      "Canny Edge Threshold Maximum:  34\n",
      "Canny Edge Threshold Maximum:  33\n",
      "Canny Edge Threshold Maximum:  32\n",
      "Canny Edge Threshold Maximum:  31\n",
      "Canny Edge Threshold Maximum:  32\n",
      "Canny Edge Threshold Maximum:  33\n",
      "Canny Edge Threshold Maximum:  34\n",
      "Canny Edge Threshold Maximum:  35\n",
      "Canny Edge Threshold Maximum:  36\n",
      "Canny Edge Threshold Maximum:  37\n",
      "Canny Edge Threshold Maximum:  38\n",
      "Canny Edge Threshold Maximum:  39\n",
      "Canny Edge Threshold Maximum:  40\n",
      "Canny Edge Threshold Maximum:  41\n",
      "Canny Edge Threshold Maximum:  42\n",
      "Canny Edge Threshold Maximum:  43\n",
      "Canny Edge Threshold Maximum:  44\n",
      "Canny Edge Threshold Maximum:  45\n",
      "Canny Edge Threshold Maximum:  46\n",
      "Canny Edge Threshold Maximum:  47\n"
     ]
    }
   ],
   "source": [
    "video_capture=open_onboard_camera()\n",
    "read_cam(video_capture)\n",
    "video_capture.release()\n",
    "cv2.destroyAllWindows()"
   ]
  },
  {
   "cell_type": "code",
   "execution_count": 1,
   "metadata": {},
   "outputs": [],
   "source": []
  },
  {
   "cell_type": "code",
   "execution_count": null,
   "metadata": {},
   "outputs": [],
   "source": []
  }
 ],
 "metadata": {
  "kernelspec": {
   "display_name": "Python 3",
   "language": "python",
   "name": "python3"
  },
  "language_info": {
   "codemirror_mode": {
    "name": "ipython",
    "version": 3
   },
   "file_extension": ".py",
   "mimetype": "text/x-python",
   "name": "python",
   "nbconvert_exporter": "python",
   "pygments_lexer": "ipython3",
   "version": "3.6.9"
  }
 },
 "nbformat": 4,
 "nbformat_minor": 4
}
