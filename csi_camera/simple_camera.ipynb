{
 "cells": [
  {
   "cell_type": "markdown",
   "metadata": {},
   "source": [
    "## SIMPLR CAMERA STREAMING TEST"
   ]
  },
  {
   "cell_type": "code",
   "execution_count": 1,
   "metadata": {},
   "outputs": [],
   "source": [
    "import os\n",
    "import sys\n",
    "import cv2"
   ]
  },
  {
   "cell_type": "code",
   "execution_count": 2,
   "metadata": {},
   "outputs": [
    {
     "name": "stdout",
     "output_type": "stream",
     "text": [
      "\n",
      "# functions : for a few initial path setting\n",
      "\n"
     ]
    }
   ],
   "source": [
    "from _path import gstreamer_pipeline"
   ]
  },
  {
   "cell_type": "code",
   "execution_count": 3,
   "metadata": {},
   "outputs": [
    {
     "data": {
      "text/plain": [
       "'nvarguscamerasrc sensor-id=1 sensor-mode=3 ! video/x-raw(memory:NVMM), width=(int)3280, height=(int)2464, format=(string)NV12, framerate=(fraction)22/1 ! nvvidconv flip-method=2 ! video/x-raw, width=(int)640, height=(int)410, format=(string)BGRx ! videoconvert ! video/x-raw, format=(string)BGR ! appsink'"
      ]
     },
     "execution_count": 3,
     "metadata": {},
     "output_type": "execute_result"
    }
   ],
   "source": [
    "gstreamer_pipeline(sensor_id=1, flip_method=2)"
   ]
  },
  {
   "cell_type": "code",
   "execution_count": 4,
   "metadata": {},
   "outputs": [],
   "source": [
    "def show_camera():\n",
    "    video_commands = gstreamer_pipeline()\n",
    "    print(video_commands)\n",
    "    \n",
    "    cap = cv2.VideoCapture(video_commands, cv2.CAP_GSTREAMER)\n",
    "    if cap.isOpened():\n",
    "        window_handle = cv2.namedWindow(\"CSI Camera\", cv2.WINDOW_AUTOSIZE)\n",
    "        while cv2.getWindowProperty(\"CSI Camera\", 0) >= 0:\n",
    "            ret_val, img = cap.read()\n",
    "            cv2.imshow(\"CSI Camera\", img)\n",
    "\n",
    "            # This also acts as\n",
    "            keyCode = cv2.waitKey(30) & 0xFF\n",
    "\n",
    "            # Stop the program on the ESC key\n",
    "            if keyCode == 27:\n",
    "                break\n",
    "        cap.release()\n",
    "        cv2.destroyAllWindows()\n",
    "    else:\n",
    "        print(\"Unable to open camera\")"
   ]
  },
  {
   "cell_type": "code",
   "execution_count": null,
   "metadata": {},
   "outputs": [
    {
     "name": "stdout",
     "output_type": "stream",
     "text": [
      "nvarguscamerasrc sensor-id=0 sensor-mode=3 ! video/x-raw(memory:NVMM), width=(int)3280, height=(int)2464, format=(string)NV12, framerate=(fraction)22/1 ! nvvidconv flip-method=0 ! video/x-raw, width=(int)640, height=(int)410, format=(string)BGRx ! videoconvert ! video/x-raw, format=(string)BGR ! appsink\n"
     ]
    }
   ],
   "source": [
    "show_camera()"
   ]
  },
  {
   "cell_type": "code",
   "execution_count": null,
   "metadata": {},
   "outputs": [],
   "source": []
  }
 ],
 "metadata": {
  "kernelspec": {
   "display_name": "Python 3",
   "language": "python",
   "name": "python3"
  },
  "language_info": {
   "codemirror_mode": {
    "name": "ipython",
    "version": 3
   },
   "file_extension": ".py",
   "mimetype": "text/x-python",
   "name": "python",
   "nbconvert_exporter": "python",
   "pygments_lexer": "ipython3",
   "version": "3.6.9"
  }
 },
 "nbformat": 4,
 "nbformat_minor": 4
}
