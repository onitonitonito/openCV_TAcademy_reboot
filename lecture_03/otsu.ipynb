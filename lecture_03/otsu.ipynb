{
 "cells": [
  {
   "cell_type": "code",
   "execution_count": 1,
   "metadata": {},
   "outputs": [],
   "source": [
    "\"\"\"\n",
    "# BINARY IMAGE : AUTO THRESHOLD VALUE - OTSU-ALGORITHMS\n",
    "\"\"\"\n",
    "# th = threshold_value\n",
    "# dst = destination_image\n",
    "\n",
    "import sys\n",
    "import cv2"
   ]
  },
  {
   "cell_type": "code",
   "execution_count": 2,
   "metadata": {},
   "outputs": [
    {
     "name": "stdout",
     "output_type": "stream",
     "text": [
      "\n",
      "# functions : for a few initial path setting\n",
      "\n",
      "*** PRESS 'ESC' key to Next image! \n",
      "\n",
      "\n"
     ]
    }
   ],
   "source": [
    "from _path import get_cut_dir\n",
    "dir_src = get_cut_dir('openCV_TAcademy') + '/src/'\n",
    "\n",
    "filenames = [\n",
    "        'namecard1.jpg',\n",
    "        'namecard2.jpg',\n",
    "        'namecard3.jpg',\n",
    "    ]\n",
    "\n",
    "print(\"*** PRESS 'ESC' key to Next image!\", \"\\n\\n\")"
   ]
  },
  {
   "cell_type": "code",
   "execution_count": 3,
   "metadata": {},
   "outputs": [
    {
     "name": "stdout",
     "output_type": "stream",
     "text": [
      "threshold (AUTO) = 132.0\n",
      "threshold (AUTO) = 151.0\n",
      "threshold (AUTO) = 118.0\n"
     ]
    }
   ],
   "source": [
    "for filename in filenames:\n",
    "    src = cv2.imread(dir_src + filename, cv2.IMREAD_COLOR)\n",
    "\n",
    "    # 이미지 로딩 실패! 시스템 종료\n",
    "    if src is None:\n",
    "        print('Image load failed!')\n",
    "        sys.exit()\n",
    "\n",
    "\n",
    "    src = cv2.resize(src, (0, 0), fx=0.5, fy=0.5)\n",
    "    src_gray = cv2.cvtColor(src, cv2.COLOR_BGR2GRAY)\n",
    "\n",
    "    th, dst = cv2.threshold(src_gray, 0, 255, cv2.THRESH_BINARY | cv2.THRESH_OTSU)\n",
    "    print(f'threshold (AUTO) =', th)\n",
    "\n",
    "    # 사진출력\n",
    "    cv2.imshow('dstination : binary-image Threshold', dst)\n",
    "    cv2.imshow('src_gray', src_gray)\n",
    "    cv2.imshow('src_resize', src)\n",
    "\n",
    "    # 인도우 위치조정\n",
    "    cv2.moveWindow('dstination : binary-image Threshold', x=550 , y=50 )\n",
    "    cv2.moveWindow('src_gray', x=0 , y=400 )\n",
    "    cv2.moveWindow('src_resize', x=0 , y=50 )\n",
    "\n",
    "    while True:\n",
    "        if cv2.waitKey() == 27:   # ESC=27\n",
    "            break"
   ]
  },
  {
   "cell_type": "code",
   "execution_count": 4,
   "metadata": {},
   "outputs": [],
   "source": [
    "cv2.destroyAllWindows()"
   ]
  },
  {
   "cell_type": "code",
   "execution_count": null,
   "metadata": {},
   "outputs": [],
   "source": []
  }
 ],
 "metadata": {
  "kernelspec": {
   "display_name": "Python 3",
   "language": "python",
   "name": "python3"
  },
  "language_info": {
   "codemirror_mode": {
    "name": "ipython",
    "version": 3
   },
   "file_extension": ".py",
   "mimetype": "text/x-python",
   "name": "python",
   "nbconvert_exporter": "python",
   "pygments_lexer": "ipython3",
   "version": "3.6.9"
  }
 },
 "nbformat": 4,
 "nbformat_minor": 4
}
