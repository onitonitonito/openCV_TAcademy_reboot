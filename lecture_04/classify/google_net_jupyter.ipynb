{
 "cells": [
  {
   "cell_type": "code",
   "execution_count": 1,
   "metadata": {},
   "outputs": [
    {
     "name": "stdout",
     "output_type": "stream",
     "text": [
      "\n",
      "# GOOGLE-NET Image CLASSIFICATION :\n",
      "\n"
     ]
    }
   ],
   "source": [
    "\"\"\"\n",
    "# GOOGLE-NET Image CLASSIFICATION :\n",
    "\"\"\"\n",
    "print(__doc__)"
   ]
  },
  {
   "cell_type": "code",
   "execution_count": 2,
   "metadata": {},
   "outputs": [
    {
     "name": "stdout",
     "output_type": "stream",
     "text": [
      "\n",
      "# functions : for a few initial path setting\n",
      "\n"
     ]
    }
   ],
   "source": [
    "import os\n",
    "import sys\n",
    "import cv2\n",
    "import numpy as np\n",
    "\n",
    "from _path import get_cut_dir, stop_if_none"
   ]
  },
  {
   "cell_type": "code",
   "execution_count": 3,
   "metadata": {},
   "outputs": [],
   "source": [
    "dir_dnn = get_cut_dir('classify') + 'src_dnn/'\n",
    "dir_img = get_cut_dir('classify') + 'src_img/mushroom/'\n",
    "\n",
    "font_color = (0, 51, 249) # BGR <- rgb(249, 51, 0)"
   ]
  },
  {
   "cell_type": "code",
   "execution_count": 4,
   "metadata": {},
   "outputs": [],
   "source": [
    "files = [ filename\n",
    "            for filename in os.listdir(dir_img)\n",
    "            if filename.split('.')[-1] == 'jpg']\n",
    "\n",
    "ask_sheets = {}\n",
    "for i, filename in enumerate(files):\n",
    "    ask_sheets[str(i)] = ['id', 0, filename]"
   ]
  },
  {
   "cell_type": "code",
   "execution_count": 5,
   "metadata": {},
   "outputs": [],
   "source": [
    "model = dir_dnn + 'bvlc_googlenet.caffemodel'\n",
    "config = dir_dnn + 'deploy.prototxt'\n",
    "\n",
    "classes = dir_dnn + 'classification_classes_ILSVRC2012.txt'"
   ]
  },
  {
   "cell_type": "code",
   "execution_count": 6,
   "metadata": {},
   "outputs": [],
   "source": [
    "# Load class names = 1000 classified lables\n",
    "classNames = None\n",
    "with open(classes, 'rt') as f:\n",
    "    classNames = f.read().rstrip('\\n').split('\\n')"
   ]
  },
  {
   "cell_type": "code",
   "execution_count": 7,
   "metadata": {},
   "outputs": [],
   "source": [
    "def get_id_CNN(filename, model, config):\n",
    "    img = cv2.imread(filename)\n",
    "    if img is None:\n",
    "        print(\"Null Object!\")\n",
    "        raise EnvironmentError\n",
    "\n",
    "    # LOAD CLASS NAMES -> if net.empty():\n",
    "    net = cv2.dnn.readNet(model, config)\n",
    "    if net.empty():\n",
    "        print('Network load failed!')\n",
    "        raise EnvironmentError\n",
    "\n",
    "    inputBlob = cv2.dnn.blobFromImage(img, 1, (224, 224), (104, 117, 123))\n",
    "    net.setInput(inputBlob)\n",
    "    prob = net.forward()\n",
    "    out = prob.flatten()\n",
    "    return img, out\n",
    "\n",
    "def put_result(img, out, font_color=(0, 51, 249), echo=True):\n",
    "    classId = np.argmax(out)\n",
    "    confidence = out[classId]\n",
    "    text = f\"Id={classNames[classId]:} [{confidence * 100:5.2f}%]\"\n",
    "    cv2.putText(\n",
    "                img=img,\n",
    "                text=text,\n",
    "                org=(10, 30),\n",
    "                fontFace=cv2.FONT_HERSHEY_SIMPLEX,\n",
    "                fontScale=0.7,\n",
    "                color=font_color,\n",
    "                thickness=2,\n",
    "                # lineType=cv2.LINE_AA,\n",
    "            )\n",
    "    if echo:\n",
    "        print(text, flush=1)\n",
    "        # cv2.imshow('img', img)\n",
    "    cv2.waitKey()\n",
    "    return classNames[classId], confidence"
   ]
  },
  {
   "cell_type": "code",
   "execution_count": 8,
   "metadata": {},
   "outputs": [
    {
     "name": "stdout",
     "output_type": "stream",
     "text": [
      "Id=earthstar [53.70%]\n",
      "Id=agaric [75.76%]\n",
      "Id=hen-of-the-woods, hen of the woods, Polyporus frondosus, Grifola frondosa [84.64%]\n",
      "Id=tailed frog, bell toad, ribbed toad, tailed toad, Ascaphus trui [44.92%]\n",
      "Id=hen-of-the-woods, hen of the woods, Polyporus frondosus, Grifola frondosa [54.36%]\n",
      "Id=hen-of-the-woods, hen of the woods, Polyporus frondosus, Grifola frondosa [42.28%]\n",
      "Id=hen-of-the-woods, hen of the woods, Polyporus frondosus, Grifola frondosa [33.46%]\n",
      "Id=stinkhorn, carrion fungus [38.62%]\n",
      "Id=gyromitra [55.65%]\n"
     ]
    }
   ],
   "source": [
    "for key in ask_sheets.keys():\n",
    "    filename = dir_img + ask_sheets[key][-1]\n",
    "\n",
    "    img, out = get_id_CNN(filename, model, config)\n",
    "    answer, conf = put_result(img, out, echo=1)\n",
    "    ask_sheets[key][0], ask_sheets[key][1] = answer, conf"
   ]
  },
  {
   "cell_type": "code",
   "execution_count": 9,
   "metadata": {},
   "outputs": [
    {
     "name": "stdout",
     "output_type": "stream",
     "text": [
      "00. mush01.jpg         : earthstar                      ... | 53.70 %\n",
      "01. mush02.jpg         : agaric                         ... | 75.76 %\n",
      "02. mush03.jpg         : hen-of-the-woods, hen of the   ... | 84.64 %\n",
      "03. mush04.jpg         : tailed frog, bell toad, ribbe  ... | 44.92 %\n",
      "04. mush05.jpg         : hen-of-the-woods, hen of the   ... | 54.36 %\n",
      "05. mush06.jpg         : hen-of-the-woods, hen of the   ... | 42.28 %\n",
      "06. mush07.jpg         : hen-of-the-woods, hen of the   ... | 33.46 %\n",
      "07. mush08.jpg         : stinkhorn, carrion fungus      ... | 38.62 %\n",
      "08. mush09.jpg         : gyromitra                      ... | 55.65 %\n"
     ]
    }
   ],
   "source": [
    "for idx, vals in enumerate(ask_sheets.values()):\n",
    "    vals = list(vals)\n",
    "    id, conf, filename = vals[0], vals[1], vals[2]\n",
    "\n",
    "    print(f\"{idx:02}. {filename:18} : {id[:29]:30} ... | {conf*100:>0.2f} %\")\n",
    "\n",
    "cv2.destroyAllWindows()"
   ]
  },
  {
   "cell_type": "code",
   "execution_count": 10,
   "metadata": {},
   "outputs": [],
   "source": [
    "import pandas as pd\n",
    "import seaborn as sns\n",
    "import matplotlib.pyplot as plt"
   ]
  },
  {
   "cell_type": "code",
   "execution_count": 11,
   "metadata": {},
   "outputs": [
    {
     "name": "stdout",
     "output_type": "stream",
     "text": [
      "\n",
      "\n",
      "                                                        id    conf    filename\n",
      "count                                                   9  9.0000           9\n",
      "unique                                                  6  9.0000           9\n",
      "top     hen-of-the-woods, hen of the woods, Polyporus ...  0.5565  mush09.jpg\n",
      "freq                                                    4  1.0000           1\n",
      "<class 'pandas.core.frame.DataFrame'>\n",
      "Index: 9 entries, 0 to 8\n",
      "Data columns (total 3 columns):\n",
      " #   Column    Non-Null Count  Dtype \n",
      "---  ------    --------------  ----- \n",
      " 0   id        9 non-null      object\n",
      " 1   conf      9 non-null      object\n",
      " 2   filename  9 non-null      object\n",
      "dtypes: object(3)\n",
      "memory usage: 288.0+ bytes\n",
      "\n",
      "\n",
      " None\n"
     ]
    }
   ],
   "source": [
    "df = pd.DataFrame.from_dict(ask_sheets).T\n",
    "df.columns = ['id','conf','filename']\n",
    "\n",
    "print('\\n\\n', df.describe())\n",
    "print('\\n\\n', df.info())"
   ]
  },
  {
   "cell_type": "code",
   "execution_count": 12,
   "metadata": {},
   "outputs": [
    {
     "data": {
      "image/png": "[encoded data removed]",
      "text/plain": [
       "<Figure size 864x432 with 4 Axes>"
      ]
     },
     "metadata": {
      "needs_background": "light"
     },
     "output_type": "display_data"
    }
   ],
   "source": [
    "# BAR 플롯이 필요하면, plot.barh() / .bar() 사용!\n",
    "\n",
    "fig, axes = plt.subplots(2,2, figsize=(12,6))\n",
    "\n",
    "df.conf.plot(ax=axes[0,0])\n",
    "df.conf.hist(bins=20, ax=axes[0,1])\n",
    "df.conf.plot.bar(ax=axes[1,0])\n",
    "sns.boxplot(df.conf, ax=axes[1,1])\n",
    "plt.show()\n",
    "\n",
    "# input('\\n\\nCONTINUE?')"
   ]
  }
 ],
 "metadata": {
  "kernelspec": {
   "display_name": "Python 3",
   "language": "python",
   "name": "python3"
  },
  "language_info": {
   "codemirror_mode": {
    "name": "ipython",
    "version": 3
   },
   "file_extension": ".py",
   "mimetype": "text/x-python",
   "name": "python",
   "nbconvert_exporter": "python",
   "pygments_lexer": "ipython3",
   "version": "3.7.1"
  }
 },
 "nbformat": 4,
 "nbformat_minor": 4
}
