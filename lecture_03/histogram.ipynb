{
 "cells": [
  {
   "cell_type": "code",
   "execution_count": 1,
   "metadata": {},
   "outputs": [],
   "source": [
    "import os\n",
    "import sys\n",
    "import numpy as np\n",
    "import cv2"
   ]
  },
  {
   "cell_type": "code",
   "execution_count": 2,
   "metadata": {},
   "outputs": [
    {
     "name": "stdout",
     "output_type": "stream",
     "text": [
      "\n",
      "# functions : for a few initial path setting\n",
      "\n"
     ]
    }
   ],
   "source": [
    "from _path import DIR_SRC, get_cut_dir, stop_if_none"
   ]
  },
  {
   "cell_type": "code",
   "execution_count": 3,
   "metadata": {},
   "outputs": [
    {
     "data": {
      "text/plain": [
       "'/home/kay/Documents/GitHub/k_mooc_reboot/openCV_TAcademy/src/'"
      ]
     },
     "execution_count": 3,
     "metadata": {},
     "output_type": "execute_result"
    }
   ],
   "source": [
    "DIR_SRC"
   ]
  },
  {
   "cell_type": "code",
   "execution_count": 4,
   "metadata": {},
   "outputs": [],
   "source": [
    "os.chdir(DIR_SRC)"
   ]
  },
  {
   "cell_type": "code",
   "execution_count": 5,
   "metadata": {},
   "outputs": [
    {
     "name": "stdout",
     "output_type": "stream",
     "text": [
      "Lenna.png  coins.png\t  namecard2.jpg\r\n",
      "avi\t   lena.bmp\t  namecard3.jpg\r\n",
      "cat.bmp    namecard1.jpg  resultOCR\\\\namecard_extracted.png\r\n"
     ]
    }
   ],
   "source": [
    "!dir"
   ]
  },
  {
   "cell_type": "code",
   "execution_count": 6,
   "metadata": {},
   "outputs": [],
   "source": [
    "def calcGrayHist(img):\n",
    "    channels = [0]\n",
    "    histSize = [256]\n",
    "    histRange = [0, 256]\n",
    "    hist = cv2.calcHist([img], channels, None, histSize, histRange)\n",
    "    return hist\n",
    "\n",
    "\n",
    "def getGrayHistImage(hist):\n",
    "    histMax = np.max(hist)\n",
    "    imgHist = np.full((110, 256), 255, dtype=np.uint8)\n",
    "\n",
    "    for x in range(256):\n",
    "        pt1 = (x, 100)\n",
    "        pt2 = (x, 100 - int(hist[x, 0] * 100 / histMax))\n",
    "        cv2.line(imgHist, pt1, pt2, 0)\n",
    "        cv2.line(imgHist, (x, 101), (x, 110), x)\n",
    "\n",
    "    #cv2.rectangle(imgHist, (0, 100), (255, 111), 0)\n",
    "    return imgHist"
   ]
  },
  {
   "cell_type": "code",
   "execution_count": 7,
   "metadata": {},
   "outputs": [],
   "source": [
    "src = cv2.imread(DIR_SRC + 'Lenna.png', cv2.IMREAD_GRAYSCALE)\n",
    "if src is None:\n",
    "    print('Image load failed!')\n",
    "    sys.exit()\n",
    "\n",
    "cv2.imshow('src', src)\n",
    "cv2.waitKey()\n",
    "cv2.destroyAllWindows()"
   ]
  },
  {
   "cell_type": "code",
   "execution_count": 11,
   "metadata": {},
   "outputs": [],
   "source": [
    "# hist = calcGrayHist(src)\n",
    "# histImg = getGrayHistImage(hist)\n",
    "# cv2.imshow('histImg', histImg)\n",
    "\n",
    "cv2.imshow('histImg', getGrayHistImage(calcGrayHist(src)))\n",
    "cv2.waitKey()\n",
    "cv2.destroyAllWindows()"
   ]
  },
  {
   "cell_type": "code",
   "execution_count": null,
   "metadata": {},
   "outputs": [],
   "source": []
  },
  {
   "cell_type": "code",
   "execution_count": null,
   "metadata": {},
   "outputs": [],
   "source": []
  }
 ],
 "metadata": {
  "kernelspec": {
   "display_name": "Python 3",
   "language": "python",
   "name": "python3"
  },
  "language_info": {
   "codemirror_mode": {
    "name": "ipython",
    "version": 3
   },
   "file_extension": ".py",
   "mimetype": "text/x-python",
   "name": "python",
   "nbconvert_exporter": "python",
   "pygments_lexer": "ipython3",
   "version": "3.6.9"
  }
 },
 "nbformat": 4,
 "nbformat_minor": 4
}
